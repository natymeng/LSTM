{
 "cells": [
  {
   "cell_type": "markdown",
   "id": "7b4816fa",
   "metadata": {},
   "source": [
    "## One-day-ahead prediction on stock value in USD\n",
    "$$ Traded Value[m USD] = Traded Volume [m shares] \\times Closing Price [USD]$$\n",
    "<br>\n",
    "<br>\n",
    "Given the limited time to spend on this project, I would decompose the question into: <br> \n",
    "1) predicting trading volume, and\n",
    "<br>\n",
    "2) predicting stock closing price\n",
    "<br>\n",
    "although there are an abundance of literatures suggesting relationships between price/return and trading volume.\n",
    "<br>\n"
   ]
  },
  {
   "cell_type": "markdown",
   "id": "ab59552f",
   "metadata": {},
   "source": [
    "## I. Predicting Stock closing price\n",
    "###  1. Load the data"
   ]
  },
  {
   "cell_type": "code",
   "execution_count": 1,
   "id": "65df3527",
   "metadata": {},
   "outputs": [
    {
     "data": {
      "text/html": [
       "<div>\n",
       "<style scoped>\n",
       "    .dataframe tbody tr th:only-of-type {\n",
       "        vertical-align: middle;\n",
       "    }\n",
       "\n",
       "    .dataframe tbody tr th {\n",
       "        vertical-align: top;\n",
       "    }\n",
       "\n",
       "    .dataframe thead th {\n",
       "        text-align: right;\n",
       "    }\n",
       "</style>\n",
       "<table border=\"1\" class=\"dataframe\">\n",
       "  <thead>\n",
       "    <tr style=\"text-align: right;\">\n",
       "      <th></th>\n",
       "      <th>Date</th>\n",
       "      <th>ID</th>\n",
       "      <th>Volume</th>\n",
       "      <th>Spread</th>\n",
       "      <th>Volatility</th>\n",
       "      <th>Price</th>\n",
       "      <th>Sentiment</th>\n",
       "    </tr>\n",
       "  </thead>\n",
       "  <tbody>\n",
       "    <tr>\n",
       "      <th>0</th>\n",
       "      <td>2012-02-01</td>\n",
       "      <td>IROSROA</td>\n",
       "      <td>518.195133</td>\n",
       "      <td>0.001272</td>\n",
       "      <td>0.118802</td>\n",
       "      <td>1125.148876</td>\n",
       "      <td>-1.734483</td>\n",
       "    </tr>\n",
       "    <tr>\n",
       "      <th>1</th>\n",
       "      <td>2012-02-01</td>\n",
       "      <td>LBQCYGN</td>\n",
       "      <td>782.416185</td>\n",
       "      <td>0.001976</td>\n",
       "      <td>0.141883</td>\n",
       "      <td>14.873362</td>\n",
       "      <td>0.243940</td>\n",
       "    </tr>\n",
       "    <tr>\n",
       "      <th>2</th>\n",
       "      <td>2012-02-01</td>\n",
       "      <td>GZMNIJI</td>\n",
       "      <td>792.203352</td>\n",
       "      <td>0.002029</td>\n",
       "      <td>0.144689</td>\n",
       "      <td>15.577075</td>\n",
       "      <td>0.111437</td>\n",
       "    </tr>\n",
       "    <tr>\n",
       "      <th>3</th>\n",
       "      <td>2012-02-01</td>\n",
       "      <td>PREGXXP</td>\n",
       "      <td>794.471386</td>\n",
       "      <td>0.001169</td>\n",
       "      <td>0.111836</td>\n",
       "      <td>724.542317</td>\n",
       "      <td>-0.080213</td>\n",
       "    </tr>\n",
       "    <tr>\n",
       "      <th>4</th>\n",
       "      <td>2012-02-01</td>\n",
       "      <td>TJXKVVW</td>\n",
       "      <td>660.684739</td>\n",
       "      <td>0.002092</td>\n",
       "      <td>0.152536</td>\n",
       "      <td>12.515318</td>\n",
       "      <td>0.621398</td>\n",
       "    </tr>\n",
       "  </tbody>\n",
       "</table>\n",
       "</div>"
      ],
      "text/plain": [
       "         Date       ID      Volume    Spread  Volatility        Price  \\\n",
       "0  2012-02-01  IROSROA  518.195133  0.001272    0.118802  1125.148876   \n",
       "1  2012-02-01  LBQCYGN  782.416185  0.001976    0.141883    14.873362   \n",
       "2  2012-02-01  GZMNIJI  792.203352  0.002029    0.144689    15.577075   \n",
       "3  2012-02-01  PREGXXP  794.471386  0.001169    0.111836   724.542317   \n",
       "4  2012-02-01  TJXKVVW  660.684739  0.002092    0.152536    12.515318   \n",
       "\n",
       "   Sentiment  \n",
       "0  -1.734483  \n",
       "1   0.243940  \n",
       "2   0.111437  \n",
       "3  -0.080213  \n",
       "4   0.621398  "
      ]
     },
     "execution_count": 1,
     "metadata": {},
     "output_type": "execute_result"
    }
   ],
   "source": [
    "import pandas as pd\n",
    "import numpy as np\n",
    "\n",
    "from datetime import datetime\n",
    "stocks = pd.read_csv('stock.csv')\n",
    "stocks['Date'] = pd.to_datetime(stocks['Date'])\n",
    "stocks['Date'] = stocks['Date'].apply(lambda x: x.strftime('%Y-%m-%d'))\n",
    "stocks.head()"
   ]
  },
  {
   "cell_type": "code",
   "execution_count": 2,
   "id": "751564ab",
   "metadata": {},
   "outputs": [
    {
     "data": {
      "text/html": [
       "<div>\n",
       "<style scoped>\n",
       "    .dataframe tbody tr th:only-of-type {\n",
       "        vertical-align: middle;\n",
       "    }\n",
       "\n",
       "    .dataframe tbody tr th {\n",
       "        vertical-align: top;\n",
       "    }\n",
       "\n",
       "    .dataframe thead th {\n",
       "        text-align: right;\n",
       "    }\n",
       "</style>\n",
       "<table border=\"1\" class=\"dataframe\">\n",
       "  <thead>\n",
       "    <tr style=\"text-align: right;\">\n",
       "      <th></th>\n",
       "      <th>Date</th>\n",
       "      <th>US/UK</th>\n",
       "      <th>JP/US</th>\n",
       "    </tr>\n",
       "  </thead>\n",
       "  <tbody>\n",
       "    <tr>\n",
       "      <th>0</th>\n",
       "      <td>2012-01-02</td>\n",
       "      <td>1.5537</td>\n",
       "      <td>76.98</td>\n",
       "    </tr>\n",
       "    <tr>\n",
       "      <th>1</th>\n",
       "      <td>2012-01-03</td>\n",
       "      <td>1.5655</td>\n",
       "      <td>76.67</td>\n",
       "    </tr>\n",
       "    <tr>\n",
       "      <th>2</th>\n",
       "      <td>2012-01-04</td>\n",
       "      <td>1.5638</td>\n",
       "      <td>76.68</td>\n",
       "    </tr>\n",
       "  </tbody>\n",
       "</table>\n",
       "</div>"
      ],
      "text/plain": [
       "         Date   US/UK  JP/US\n",
       "0  2012-01-02  1.5537  76.98\n",
       "1  2012-01-03  1.5655  76.67\n",
       "2  2012-01-04  1.5638  76.68"
      ]
     },
     "execution_count": 2,
     "metadata": {},
     "output_type": "execute_result"
    }
   ],
   "source": [
    "fx = pd.read_csv('fx.csv')\n",
    "fx.head(3)"
   ]
  },
  {
   "cell_type": "code",
   "execution_count": 3,
   "id": "116c45d1",
   "metadata": {},
   "outputs": [
    {
     "data": {
      "text/html": [
       "<div>\n",
       "<style scoped>\n",
       "    .dataframe tbody tr th:only-of-type {\n",
       "        vertical-align: middle;\n",
       "    }\n",
       "\n",
       "    .dataframe tbody tr th {\n",
       "        vertical-align: top;\n",
       "    }\n",
       "\n",
       "    .dataframe thead th {\n",
       "        text-align: right;\n",
       "    }\n",
       "</style>\n",
       "<table border=\"1\" class=\"dataframe\">\n",
       "  <thead>\n",
       "    <tr style=\"text-align: right;\">\n",
       "      <th></th>\n",
       "      <th>ID</th>\n",
       "      <th>Country</th>\n",
       "    </tr>\n",
       "  </thead>\n",
       "  <tbody>\n",
       "    <tr>\n",
       "      <th>0</th>\n",
       "      <td>IROSROA</td>\n",
       "      <td>JP</td>\n",
       "    </tr>\n",
       "    <tr>\n",
       "      <th>1</th>\n",
       "      <td>LBQCYGN</td>\n",
       "      <td>US</td>\n",
       "    </tr>\n",
       "    <tr>\n",
       "      <th>2</th>\n",
       "      <td>GZMNIJI</td>\n",
       "      <td>US</td>\n",
       "    </tr>\n",
       "  </tbody>\n",
       "</table>\n",
       "</div>"
      ],
      "text/plain": [
       "        ID Country\n",
       "0  IROSROA      JP\n",
       "1  LBQCYGN      US\n",
       "2  GZMNIJI      US"
      ]
     },
     "execution_count": 3,
     "metadata": {},
     "output_type": "execute_result"
    }
   ],
   "source": [
    "classification = pd.read_csv('classification.csv')\n",
    "classification.head(3)"
   ]
  },
  {
   "cell_type": "code",
   "execution_count": 4,
   "id": "628697ae",
   "metadata": {},
   "outputs": [],
   "source": [
    "stocks = stocks.merge(classification, how = 'left')\n",
    "stocks = stocks.merge(fx, how = 'left', on = 'Date')"
   ]
  },
  {
   "cell_type": "markdown",
   "id": "3551170c",
   "metadata": {},
   "source": [
    "#### on FX rate\n",
    "I avoided decomposing **closing price in USD** into **closing price in local currency** and **FX rate against USD** as this would be another element to make predictions on. Although there are studies done on FX rate forecast based on historical FX rates alone using statistical and ML models, since I am not provided with macro economics data and given the time limit, I decided to convert all prices into USD using the historical FX rates provided and make the stock price prediction in USD directly. "
   ]
  },
  {
   "cell_type": "code",
   "execution_count": 5,
   "id": "49a166f8",
   "metadata": {},
   "outputs": [
    {
     "data": {
      "text/html": [
       "<div>\n",
       "<style scoped>\n",
       "    .dataframe tbody tr th:only-of-type {\n",
       "        vertical-align: middle;\n",
       "    }\n",
       "\n",
       "    .dataframe tbody tr th {\n",
       "        vertical-align: top;\n",
       "    }\n",
       "\n",
       "    .dataframe thead th {\n",
       "        text-align: right;\n",
       "    }\n",
       "</style>\n",
       "<table border=\"1\" class=\"dataframe\">\n",
       "  <thead>\n",
       "    <tr style=\"text-align: right;\">\n",
       "      <th></th>\n",
       "      <th>Date</th>\n",
       "      <th>ID</th>\n",
       "      <th>Volume</th>\n",
       "      <th>Spread</th>\n",
       "      <th>Volatility</th>\n",
       "      <th>Price</th>\n",
       "      <th>Sentiment</th>\n",
       "      <th>Country</th>\n",
       "      <th>US/UK</th>\n",
       "      <th>JP/US</th>\n",
       "      <th>Price USD</th>\n",
       "    </tr>\n",
       "  </thead>\n",
       "  <tbody>\n",
       "    <tr>\n",
       "      <th>0</th>\n",
       "      <td>2012-02-01</td>\n",
       "      <td>IROSROA</td>\n",
       "      <td>518.195133</td>\n",
       "      <td>0.001272</td>\n",
       "      <td>0.118802</td>\n",
       "      <td>1125.148876</td>\n",
       "      <td>-1.734483</td>\n",
       "      <td>JP</td>\n",
       "      <td>1.5849</td>\n",
       "      <td>76.11</td>\n",
       "      <td>14.783194</td>\n",
       "    </tr>\n",
       "    <tr>\n",
       "      <th>1</th>\n",
       "      <td>2012-02-01</td>\n",
       "      <td>LBQCYGN</td>\n",
       "      <td>782.416185</td>\n",
       "      <td>0.001976</td>\n",
       "      <td>0.141883</td>\n",
       "      <td>14.873362</td>\n",
       "      <td>0.243940</td>\n",
       "      <td>US</td>\n",
       "      <td>1.5849</td>\n",
       "      <td>76.11</td>\n",
       "      <td>14.873362</td>\n",
       "    </tr>\n",
       "    <tr>\n",
       "      <th>2</th>\n",
       "      <td>2012-02-01</td>\n",
       "      <td>GZMNIJI</td>\n",
       "      <td>792.203352</td>\n",
       "      <td>0.002029</td>\n",
       "      <td>0.144689</td>\n",
       "      <td>15.577075</td>\n",
       "      <td>0.111437</td>\n",
       "      <td>US</td>\n",
       "      <td>1.5849</td>\n",
       "      <td>76.11</td>\n",
       "      <td>15.577075</td>\n",
       "    </tr>\n",
       "    <tr>\n",
       "      <th>3</th>\n",
       "      <td>2012-02-01</td>\n",
       "      <td>PREGXXP</td>\n",
       "      <td>794.471386</td>\n",
       "      <td>0.001169</td>\n",
       "      <td>0.111836</td>\n",
       "      <td>724.542317</td>\n",
       "      <td>-0.080213</td>\n",
       "      <td>JP</td>\n",
       "      <td>1.5849</td>\n",
       "      <td>76.11</td>\n",
       "      <td>9.519673</td>\n",
       "    </tr>\n",
       "    <tr>\n",
       "      <th>4</th>\n",
       "      <td>2012-02-01</td>\n",
       "      <td>TJXKVVW</td>\n",
       "      <td>660.684739</td>\n",
       "      <td>0.002092</td>\n",
       "      <td>0.152536</td>\n",
       "      <td>12.515318</td>\n",
       "      <td>0.621398</td>\n",
       "      <td>UK</td>\n",
       "      <td>1.5849</td>\n",
       "      <td>76.11</td>\n",
       "      <td>19.835527</td>\n",
       "    </tr>\n",
       "  </tbody>\n",
       "</table>\n",
       "</div>"
      ],
      "text/plain": [
       "         Date       ID      Volume    Spread  Volatility        Price  \\\n",
       "0  2012-02-01  IROSROA  518.195133  0.001272    0.118802  1125.148876   \n",
       "1  2012-02-01  LBQCYGN  782.416185  0.001976    0.141883    14.873362   \n",
       "2  2012-02-01  GZMNIJI  792.203352  0.002029    0.144689    15.577075   \n",
       "3  2012-02-01  PREGXXP  794.471386  0.001169    0.111836   724.542317   \n",
       "4  2012-02-01  TJXKVVW  660.684739  0.002092    0.152536    12.515318   \n",
       "\n",
       "   Sentiment Country   US/UK  JP/US  Price USD  \n",
       "0  -1.734483      JP  1.5849  76.11  14.783194  \n",
       "1   0.243940      US  1.5849  76.11  14.873362  \n",
       "2   0.111437      US  1.5849  76.11  15.577075  \n",
       "3  -0.080213      JP  1.5849  76.11   9.519673  \n",
       "4   0.621398      UK  1.5849  76.11  19.835527  "
      ]
     },
     "execution_count": 5,
     "metadata": {},
     "output_type": "execute_result"
    }
   ],
   "source": [
    "stocks['Price USD'] = np.where(stocks['Country'] == 'JP', stocks['Price']/stocks['JP/US'], \n",
    "                              np.where(stocks['Country'] == 'UK', stocks['Price'] * stocks['US/UK'], stocks['Price']))\n",
    "stocks.head()"
   ]
  },
  {
   "cell_type": "markdown",
   "id": "c29b8a51",
   "metadata": {},
   "source": [
    "###  2 Explore the data\n",
    "<br>\n",
    "I originally considered using Auto-Regressive Integrated Moving Average (ARIMA) as stock prices are generally non-stationary and auto-correlated. <br>\n",
    "See below:"
   ]
  },
  {
   "cell_type": "code",
   "execution_count": 6,
   "id": "4c2a6549",
   "metadata": {},
   "outputs": [],
   "source": [
    "def stock_df(stocks, ticker):\n",
    "    df = stocks[stocks['ID'] == ticker][['Date','Country','Volume','Volatility','Price USD','Sentiment','Spread']]\n",
    "    df.fillna(method = 'ffill', inplace = True) #in case there's no data point, fill with previous day data point\n",
    "    return df"
   ]
  },
  {
   "cell_type": "code",
   "execution_count": 7,
   "id": "b208f84d",
   "metadata": {},
   "outputs": [
    {
     "data": {
      "image/png": "[encoded data removed]",
      "text/plain": [
       "<Figure size 432x288 with 1 Axes>"
      ]
     },
     "metadata": {
      "needs_background": "light"
     },
     "output_type": "display_data"
    },
    {
     "data": {
      "image/png": "[encoded data removed]",
      "text/plain": [
       "<Figure size 432x288 with 1 Axes>"
      ]
     },
     "metadata": {
      "needs_background": "light"
     },
     "output_type": "display_data"
    }
   ],
   "source": [
    "ticker = 'IROSROA'\n",
    "df = stock_df(stocks, ticker).set_index('Date')\n",
    "df['Price USD'].plot()\n",
    "\n",
    "import matplotlib.pyplot as plt\n",
    "from pandas.plotting import lag_plot\n",
    "\n",
    "plt.figure()\n",
    "lag_plot(df['Price USD'], lag=1)\n",
    "plt.title('Autocorrelation plot with lag = 1')\n",
    "plt.show()"
   ]
  },
  {
   "cell_type": "markdown",
   "id": "680caeb5",
   "metadata": {},
   "source": [
    "However, multiple publications suggested that LSTM provides superior performance to ARIMA in stock market predictions [1][2].\n",
    "<br>\n",
    "<br>\n",
    "This is likely because the non-linearity in the data, as we can see in another stock example below."
   ]
  },
  {
   "cell_type": "code",
   "execution_count": 8,
   "id": "4c755894",
   "metadata": {},
   "outputs": [
    {
     "data": {
      "text/plain": [
       "<AxesSubplot:xlabel='Date'>"
      ]
     },
     "execution_count": 8,
     "metadata": {},
     "output_type": "execute_result"
    },
    {
     "data": {
      "image/png": "[encoded data removed]",
      "text/plain": [
       "<Figure size 432x288 with 1 Axes>"
      ]
     },
     "metadata": {
      "needs_background": "light"
     },
     "output_type": "display_data"
    }
   ],
   "source": [
    "ticker = 'LBQCYGN'\n",
    "df = stock_df(stocks, ticker).set_index('Date')\n",
    "df['Price USD'].plot()"
   ]
  },
  {
   "cell_type": "markdown",
   "id": "67a286ce",
   "metadata": {},
   "source": [
    "We can see from the 2 examples that the price series is nonlinear and nonstationary. "
   ]
  },
  {
   "cell_type": "code",
   "execution_count": null,
   "id": "9bec09de",
   "metadata": {},
   "outputs": [],
   "source": []
  },
  {
   "cell_type": "markdown",
   "id": "7488a825",
   "metadata": {},
   "source": [
    "###  2. LSTM models & Model training\n",
    "#### 2.1 Standard LSTM\n",
    "\n",
    "<br>\n",
    "I explore the results with randomly one US stock and one non-US stock."
   ]
  },
  {
   "cell_type": "code",
   "execution_count": 9,
   "id": "b245f51f",
   "metadata": {},
   "outputs": [
    {
     "data": {
      "text/html": [
       "<div>\n",
       "<style scoped>\n",
       "    .dataframe tbody tr th:only-of-type {\n",
       "        vertical-align: middle;\n",
       "    }\n",
       "\n",
       "    .dataframe tbody tr th {\n",
       "        vertical-align: top;\n",
       "    }\n",
       "\n",
       "    .dataframe thead th {\n",
       "        text-align: right;\n",
       "    }\n",
       "</style>\n",
       "<table border=\"1\" class=\"dataframe\">\n",
       "  <thead>\n",
       "    <tr style=\"text-align: right;\">\n",
       "      <th></th>\n",
       "      <th>Price USD</th>\n",
       "      <th>Sentiment</th>\n",
       "    </tr>\n",
       "    <tr>\n",
       "      <th>Date</th>\n",
       "      <th></th>\n",
       "      <th></th>\n",
       "    </tr>\n",
       "  </thead>\n",
       "  <tbody>\n",
       "    <tr>\n",
       "      <th>2012-02-01</th>\n",
       "      <td>14.873362</td>\n",
       "      <td>0.243940</td>\n",
       "    </tr>\n",
       "    <tr>\n",
       "      <th>2012-03-01</th>\n",
       "      <td>15.163614</td>\n",
       "      <td>-0.130350</td>\n",
       "    </tr>\n",
       "    <tr>\n",
       "      <th>2012-04-01</th>\n",
       "      <td>15.098638</td>\n",
       "      <td>0.178536</td>\n",
       "    </tr>\n",
       "  </tbody>\n",
       "</table>\n",
       "</div>"
      ],
      "text/plain": [
       "            Price USD  Sentiment\n",
       "Date                            \n",
       "2012-02-01  14.873362   0.243940\n",
       "2012-03-01  15.163614  -0.130350\n",
       "2012-04-01  15.098638   0.178536"
      ]
     },
     "execution_count": 9,
     "metadata": {},
     "output_type": "execute_result"
    }
   ],
   "source": [
    "ticker = 'LBQCYGN' # I start by taking the first US stock as an example\n",
    "\n",
    "df = stocks[stocks['ID'] == ticker][['Date','Price USD','Sentiment']].set_index('Date')\n",
    "df.fillna(method = 'ffill', inplace = True) #in case there's no price, fill with previous day close\n",
    "df.head(3)"
   ]
  },
  {
   "cell_type": "code",
   "execution_count": 10,
   "id": "a85090f6",
   "metadata": {},
   "outputs": [],
   "source": [
    "from sklearn.preprocessing import MinMaxScaler\n",
    "\n",
    "scaler = MinMaxScaler(feature_range=(0,1)) \n",
    "px_norm = scaler.fit_transform(df['Price USD'].values.reshape(-1,1))"
   ]
  },
  {
   "cell_type": "code",
   "execution_count": 11,
   "id": "fa453e3d",
   "metadata": {},
   "outputs": [],
   "source": [
    "def df_to_XY(px_norm, window_size=5):#test 5, 10, 15, 20, 30\n",
    "    X = []\n",
    "    Y = []\n",
    "    for i in range(len(px_norm)-window_size):\n",
    "        X.append([pair for pair in px_norm[i:i+window_size]])\n",
    "        Y.append(px_norm[i+window_size, 0])\n",
    "    return np.array(X), np.array(Y)"
   ]
  },
  {
   "cell_type": "code",
   "execution_count": 12,
   "id": "b1bb6343",
   "metadata": {},
   "outputs": [
    {
     "data": {
      "text/plain": [
       "((1816, 10, 1), (1816,))"
      ]
     },
     "execution_count": 12,
     "metadata": {},
     "output_type": "execute_result"
    }
   ],
   "source": [
    "window_size = 10\n",
    "X0, Y0 = df_to_XY(px_norm, window_size)\n",
    "X0.shape, Y0.shape"
   ]
  },
  {
   "cell_type": "code",
   "execution_count": 20,
   "id": "fa5fc93a",
   "metadata": {},
   "outputs": [],
   "source": [
    "def split_data(X, Y, train_split = 0.8): #default train/test split is 80/20\n",
    "\n",
    "    split_index = int(Y.shape[0] * train_split)\n",
    "    \n",
    "    X_train, Y_train = X[:split_index], Y[:split_index]\n",
    "    X_test, Y_test = X[split_index:], Y[split_index:]\n",
    "    \n",
    "    return X_train, Y_train, X_test, Y_test, split_index"
   ]
  },
  {
   "cell_type": "code",
   "execution_count": 21,
   "id": "7b2213df",
   "metadata": {},
   "outputs": [
    {
     "data": {
      "text/plain": [
       "((1452, 10, 1), (1452,), (364, 10, 1), (364,))"
      ]
     },
     "execution_count": 21,
     "metadata": {},
     "output_type": "execute_result"
    }
   ],
   "source": [
    "X0_train, Y0_train, X0_test, Y0_test, split_index = split_data(X0, Y0)\n",
    "X0_train.shape, Y0_train.shape, X0_test.shape, Y0_test.shape"
   ]
  },
  {
   "cell_type": "code",
   "execution_count": 15,
   "id": "5646e2e0",
   "metadata": {},
   "outputs": [],
   "source": [
    "from tensorflow.keras.models import Sequential\n",
    "from tensorflow.keras.layers import *\n",
    "from tensorflow.keras.losses import MeanSquaredError\n",
    "from tensorflow.keras.metrics import RootMeanSquaredError\n",
    "from tensorflow.keras.optimizers import Adam"
   ]
  },
  {
   "cell_type": "markdown",
   "id": "bd72afac",
   "metadata": {},
   "source": [
    "3 parameters need to be decided:\n",
    "1) # of layers <br>\n",
    "2) # unit <br>\n",
    "3) dropout %\n",
    "\n",
    "<br>\n",
    "The optimal parameters should be obtained by comparing the deviation of the predicted results. \n",
    "In this model, I will set 1 input layer,  3 LSTM layers, each followed by a dropout layer, and a final dense layer as ouput.\n",
    "<br>\n",
    "I will set the unit number for each LSTM layer to be 100 and the dropout rate to be 0.1."
   ]
  },
  {
   "cell_type": "code",
   "execution_count": 16,
   "id": "75a723e3",
   "metadata": {},
   "outputs": [],
   "source": [
    "def LSTM_layers(input_row, input_col):\n",
    "    model0 = Sequential()\n",
    "    model0.add(LSTM(units=100,return_sequences=True,input_shape=(input_row, input_col)))\n",
    "    model0.add(LSTM(units=100,return_sequences=True))\n",
    "    model0.add(Dropout(0.1))\n",
    "    model0.add(LSTM(units=100,return_sequences=True))\n",
    "    model0.add(Dropout(0.1))\n",
    "    model0.add(LSTM(units=100))\n",
    "    model0.add(Dropout(0.1))\n",
    "    model0.add(Dense(units=1))\n",
    "    return model0"
   ]
  },
  {
   "cell_type": "code",
   "execution_count": 17,
   "id": "72e8778f",
   "metadata": {},
   "outputs": [
    {
     "name": "stdout",
     "output_type": "stream",
     "text": [
      "Epoch 1/10\n",
      "46/46 [==============================] - 7s 40ms/step - loss: 0.0366\n",
      "Epoch 2/10\n",
      "46/46 [==============================] - 2s 38ms/step - loss: 0.0067\n",
      "Epoch 3/10\n",
      "46/46 [==============================] - 2s 38ms/step - loss: 0.0067\n",
      "Epoch 4/10\n",
      "46/46 [==============================] - 2s 38ms/step - loss: 0.0066\n",
      "Epoch 5/10\n",
      "46/46 [==============================] - 2s 38ms/step - loss: 0.0069\n",
      "Epoch 6/10\n",
      "46/46 [==============================] - 2s 38ms/step - loss: 0.0065\n",
      "Epoch 7/10\n",
      "46/46 [==============================] - 2s 38ms/step - loss: 0.0066\n",
      "Epoch 8/10\n",
      "46/46 [==============================] - 2s 43ms/step - loss: 0.0059\n",
      "Epoch 9/10\n",
      "46/46 [==============================] - 2s 38ms/step - loss: 0.0055\n",
      "Epoch 10/10\n",
      "46/46 [==============================] - 2s 39ms/step - loss: 0.0057\n"
     ]
    },
    {
     "data": {
      "text/plain": [
       "<keras.callbacks.History at 0x1f8e4dc5820>"
      ]
     },
     "execution_count": 17,
     "metadata": {},
     "output_type": "execute_result"
    }
   ],
   "source": [
    "model0 = LSTM_layers(window_size, 1)\n",
    "model0.compile(loss=MeanSquaredError(), optimizer=Adam(learning_rate=0.001))\n",
    "model0.fit(X0_train,Y0_train, epochs=10) #batch size?"
   ]
  },
  {
   "cell_type": "code",
   "execution_count": 22,
   "id": "81d2bce6",
   "metadata": {},
   "outputs": [
    {
     "name": "stdout",
     "output_type": "stream",
     "text": [
      "12/12 [==============================] - 0s 12ms/step\n"
     ]
    },
    {
     "data": {
      "text/plain": [
       "([<matplotlib.axis.XTick at 0x1f8f213f5b0>,\n",
       "  <matplotlib.axis.XTick at 0x1f8f213f580>,\n",
       "  <matplotlib.axis.XTick at 0x1f8f2137b50>,\n",
       "  <matplotlib.axis.XTick at 0x1f8f211ed00>,\n",
       "  <matplotlib.axis.XTick at 0x1f8f211e7f0>],\n",
       " [Text(0, 0, ''),\n",
       "  Text(0, 0, ''),\n",
       "  Text(0, 0, ''),\n",
       "  Text(0, 0, ''),\n",
       "  Text(0, 0, '')])"
      ]
     },
     "execution_count": 22,
     "metadata": {},
     "output_type": "execute_result"
    },
    {
     "data": {
      "image/png": "[encoded data removed]",
      "text/plain": [
       "<Figure size 432x288 with 1 Axes>"
      ]
     },
     "metadata": {
      "needs_background": "light"
     },
     "output_type": "display_data"
    }
   ],
   "source": [
    "test_predictions0 = model0.predict(X0_test)\n",
    "px_predict0 = scaler.inverse_transform(test_predictions0)\n",
    "results0 = pd.DataFrame(data={'Test Predictions':px_predict0.flatten(), \n",
    "                              'Actuals':df.iloc[split_index+window_size:]['Price USD']})\n",
    "\n",
    "import matplotlib.pyplot as plt\n",
    "plt.plot(df.iloc[:split_index+window_size]['Price USD'])\n",
    "plt.plot(results0[['Test Predictions', 'Actuals']])\n",
    "plt.legend(['Train', 'Predictions', 'Actuals'], loc='upper left')\n",
    "plt.xticks(np.arange(0, X0.shape[0], 400))"
   ]
  },
  {
   "cell_type": "code",
   "execution_count": 25,
   "id": "0dfe8356",
   "metadata": {},
   "outputs": [
    {
     "data": {
      "text/plain": [
       "(364, 10, 1)"
      ]
     },
     "execution_count": 25,
     "metadata": {},
     "output_type": "execute_result"
    }
   ],
   "source": [
    "X0_test.shape"
   ]
  },
  {
   "cell_type": "code",
   "execution_count": 31,
   "id": "8773ba9c",
   "metadata": {},
   "outputs": [
    {
     "data": {
      "text/plain": [
       "(364, 1)"
      ]
     },
     "execution_count": 31,
     "metadata": {},
     "output_type": "execute_result"
    }
   ],
   "source": [
    "test_predictions0 .shape"
   ]
  },
  {
   "cell_type": "code",
   "execution_count": 23,
   "id": "f173cd19",
   "metadata": {},
   "outputs": [],
   "source": [
    "from sklearn.metrics import mean_squared_error as mse\n",
    "from sklearn.metrics import mean_absolute_error as mae\n",
    "from sklearn.metrics import mean_absolute_percentage_error as mape\n",
    "\n",
    "\n",
    "def performance_measure(model, X, y, method = 'Standard LSTM'):\n",
    "    predictions = model.predict(X).flatten()\n",
    "    return pd.DataFrame({'MSE': mse(y, predictions), \n",
    "                         'MAE': mae(y, predictions), \n",
    "                         'MAPE': mape(y, predictions), \n",
    "                         'Accuracy': 1-mape(y, predictions)}, index = [method])"
   ]
  },
  {
   "cell_type": "code",
   "execution_count": 24,
   "id": "819cc5df",
   "metadata": {},
   "outputs": [
    {
     "name": "stdout",
     "output_type": "stream",
     "text": [
      "12/12 [==============================] - 0s 13ms/step\n"
     ]
    },
    {
     "data": {
      "text/html": [
       "<div>\n",
       "<style scoped>\n",
       "    .dataframe tbody tr th:only-of-type {\n",
       "        vertical-align: middle;\n",
       "    }\n",
       "\n",
       "    .dataframe tbody tr th {\n",
       "        vertical-align: top;\n",
       "    }\n",
       "\n",
       "    .dataframe thead th {\n",
       "        text-align: right;\n",
       "    }\n",
       "</style>\n",
       "<table border=\"1\" class=\"dataframe\">\n",
       "  <thead>\n",
       "    <tr style=\"text-align: right;\">\n",
       "      <th></th>\n",
       "      <th>MSE</th>\n",
       "      <th>MAE</th>\n",
       "      <th>MAPE</th>\n",
       "      <th>Accuracy</th>\n",
       "    </tr>\n",
       "  </thead>\n",
       "  <tbody>\n",
       "    <tr>\n",
       "      <th>Standard LSTM</th>\n",
       "      <td>0.003729</td>\n",
       "      <td>0.048097</td>\n",
       "      <td>0.10379</td>\n",
       "      <td>0.89621</td>\n",
       "    </tr>\n",
       "  </tbody>\n",
       "</table>\n",
       "</div>"
      ],
      "text/plain": [
       "                    MSE       MAE     MAPE  Accuracy\n",
       "Standard LSTM  0.003729  0.048097  0.10379   0.89621"
      ]
     },
     "execution_count": 24,
     "metadata": {},
     "output_type": "execute_result"
    }
   ],
   "source": [
    "res0 = performance_measure(model0, X0_test, Y0_test.flatten())\n",
    "res0"
   ]
  },
  {
   "cell_type": "markdown",
   "id": "74c5418e",
   "metadata": {},
   "source": [
    "#### 2.2 LSTM with historical data and sentiment score pair\n",
    "<br>\n",
    "Intuitively it makes sense that **sentiment score** affect the stock price, and various research discusses the importance of incorporating sentiment in stock market predictions [3][4].\n",
    "<br>\n",
    "I will first explore the method used in \"Stock price prediction using news sentiment analysis\" by S. Mohan et al. [5] where the historical price and sentiment score are paired to for price prediction by LSTM. The pairs are \n",
    "$(Price_{t-1}, Sentiment Score_{t}),...,(Price_{t-m}, Sentiment Score_{t-m-1})$"
   ]
  },
  {
   "cell_type": "code",
   "execution_count": 32,
   "id": "ea998159",
   "metadata": {},
   "outputs": [],
   "source": [
    "sent_norm =  scaler.fit_transform(df['Sentiment'].values.reshape(-1,1)) # we also normalize the sentiment scores"
   ]
  },
  {
   "cell_type": "code",
   "execution_count": 33,
   "id": "9ff5ad2c",
   "metadata": {},
   "outputs": [
    {
     "data": {
      "text/plain": [
       "(1825, 2)"
      ]
     },
     "execution_count": 33,
     "metadata": {},
     "output_type": "execute_result"
    }
   ],
   "source": [
    "df_norm = np.hstack((px_norm[1:], sent_norm[:-1])) # because we are pairing price with sentiment score with 1 step offset\n",
    "df_norm.shape"
   ]
  },
  {
   "cell_type": "code",
   "execution_count": 35,
   "id": "909399d6",
   "metadata": {},
   "outputs": [
    {
     "data": {
      "text/plain": [
       "((1452, 10, 2), (1452,), (363, 10, 2), (363,))"
      ]
     },
     "execution_count": 35,
     "metadata": {},
     "output_type": "execute_result"
    }
   ],
   "source": [
    "#WINDOW_SIZE = 5\n",
    "X1, Y1 = df_to_XY(df_norm, window_size)\n",
    "X_train1, Y_train1, X_test1, Y_test1, split_index = split_data(X1, Y1)\n",
    "X_train1.shape, Y_train1.shape, X_test1.shape, Y_test1.shape"
   ]
  },
  {
   "cell_type": "code",
   "execution_count": 36,
   "id": "6c7c8a94",
   "metadata": {},
   "outputs": [
    {
     "name": "stdout",
     "output_type": "stream",
     "text": [
      "Epoch 1/10\n",
      "46/46 [==============================] - 8s 36ms/step - loss: 0.0365\n",
      "Epoch 2/10\n",
      "46/46 [==============================] - 2s 41ms/step - loss: 0.0069\n",
      "Epoch 3/10\n",
      "46/46 [==============================] - 2s 38ms/step - loss: 0.0067\n",
      "Epoch 4/10\n",
      "46/46 [==============================] - 2s 37ms/step - loss: 0.0067\n",
      "Epoch 5/10\n",
      "46/46 [==============================] - 2s 37ms/step - loss: 0.0066\n",
      "Epoch 6/10\n",
      "46/46 [==============================] - 2s 39ms/step - loss: 0.0063\n",
      "Epoch 7/10\n",
      "46/46 [==============================] - 2s 36ms/step - loss: 0.0062\n",
      "Epoch 8/10\n",
      "46/46 [==============================] - 2s 36ms/step - loss: 0.0064\n",
      "Epoch 9/10\n",
      "46/46 [==============================] - 2s 36ms/step - loss: 0.0062\n",
      "Epoch 10/10\n",
      "46/46 [==============================] - 2s 35ms/step - loss: 0.0057\n"
     ]
    },
    {
     "data": {
      "text/plain": [
       "<keras.callbacks.History at 0x1f8f24c28b0>"
      ]
     },
     "execution_count": 36,
     "metadata": {},
     "output_type": "execute_result"
    }
   ],
   "source": [
    "model1 = LSTM_layers(window_size, 2)\n",
    "model1.compile(loss=MeanSquaredError(), optimizer=Adam(learning_rate=0.001))\n",
    "model1.fit(X_train1,Y_train1, epochs=10)"
   ]
  },
  {
   "cell_type": "code",
   "execution_count": 37,
   "id": "1e8008dc",
   "metadata": {},
   "outputs": [
    {
     "name": "stdout",
     "output_type": "stream",
     "text": [
      "12/12 [==============================] - 1s 14ms/step\n"
     ]
    },
    {
     "data": {
      "text/html": [
       "<div>\n",
       "<style scoped>\n",
       "    .dataframe tbody tr th:only-of-type {\n",
       "        vertical-align: middle;\n",
       "    }\n",
       "\n",
       "    .dataframe tbody tr th {\n",
       "        vertical-align: top;\n",
       "    }\n",
       "\n",
       "    .dataframe thead th {\n",
       "        text-align: right;\n",
       "    }\n",
       "</style>\n",
       "<table border=\"1\" class=\"dataframe\">\n",
       "  <thead>\n",
       "    <tr style=\"text-align: right;\">\n",
       "      <th></th>\n",
       "      <th>MSE</th>\n",
       "      <th>MAE</th>\n",
       "      <th>MAPE</th>\n",
       "      <th>Accuracy</th>\n",
       "    </tr>\n",
       "  </thead>\n",
       "  <tbody>\n",
       "    <tr>\n",
       "      <th>Pair LSTM</th>\n",
       "      <td>0.004275</td>\n",
       "      <td>0.052414</td>\n",
       "      <td>0.111835</td>\n",
       "      <td>0.888165</td>\n",
       "    </tr>\n",
       "  </tbody>\n",
       "</table>\n",
       "</div>"
      ],
      "text/plain": [
       "                MSE       MAE      MAPE  Accuracy\n",
       "Pair LSTM  0.004275  0.052414  0.111835  0.888165"
      ]
     },
     "execution_count": 37,
     "metadata": {},
     "output_type": "execute_result"
    }
   ],
   "source": [
    "res1 = performance_measure(model1, X_test1, Y_test1.flatten(), 'Pair LSTM')\n",
    "res1"
   ]
  },
  {
   "cell_type": "code",
   "execution_count": null,
   "id": "e5a03297",
   "metadata": {},
   "outputs": [],
   "source": []
  },
  {
   "cell_type": "markdown",
   "id": "61d0bfc8",
   "metadata": {},
   "source": [
    "#### 2.3 LSTM with historical data and sentiment score as additional row\n",
    "<br>\n",
    "Another way to incorporate sentiment score into the LSTM model mentioned in \"FinBERT-LSTM: Deep Learning based stock price prediction using News Sentiment Analysis\" by S. Halder [4] is to combine the closing stock price of 10 days and news sentiment on that day, resulting in the input layer shape to be 11 x 1.\n",
    "<br>\n",
    "I replicate the method below with rolling window size default to be 5."
   ]
  },
  {
   "cell_type": "code",
   "execution_count": 38,
   "id": "c421a70e",
   "metadata": {},
   "outputs": [],
   "source": [
    "def df_to_XY_add_sent(px_norm, sent_norm, window_size=5):#test 5, 10, 15, 20, 30\n",
    "    X = []\n",
    "    Y = []\n",
    "    for i in range(len(px_norm)-window_size):\n",
    "        X.append(np.concatenate((px_norm[i:i+window_size], sent_norm[i+window_size-1:i+window_size]), axis = 0))\n",
    "        Y.append(px_norm[i+window_size, 0])\n",
    "    return np.array(X), np.array(Y)"
   ]
  },
  {
   "cell_type": "code",
   "execution_count": 39,
   "id": "765ee7a9",
   "metadata": {},
   "outputs": [
    {
     "data": {
      "text/plain": [
       "((1816, 11, 1), (1816,))"
      ]
     },
     "execution_count": 39,
     "metadata": {},
     "output_type": "execute_result"
    }
   ],
   "source": [
    "#WINDOW_SIZE = 5\n",
    "X2, Y2 = df_to_XY_add_sent(px_norm, sent_norm, window_size)\n",
    "X2.shape, Y2.shape"
   ]
  },
  {
   "cell_type": "code",
   "execution_count": 40,
   "id": "35291a57",
   "metadata": {},
   "outputs": [
    {
     "data": {
      "text/plain": [
       "((1452, 11, 1), (1452,), (364, 11, 1), (364,))"
      ]
     },
     "execution_count": 40,
     "metadata": {},
     "output_type": "execute_result"
    }
   ],
   "source": [
    "X_train2, Y_train2, X_test2, Y_test2, split_index = split_data(X2, Y2)\n",
    "X_train2.shape, Y_train2.shape, X_test2.shape, Y_test2.shape"
   ]
  },
  {
   "cell_type": "code",
   "execution_count": 41,
   "id": "cd7b9229",
   "metadata": {},
   "outputs": [
    {
     "name": "stdout",
     "output_type": "stream",
     "text": [
      "Epoch 1/10\n",
      "46/46 [==============================] - 8s 39ms/step - loss: 0.0346\n",
      "Epoch 2/10\n",
      "46/46 [==============================] - 2s 38ms/step - loss: 0.0065\n",
      "Epoch 3/10\n",
      "46/46 [==============================] - 2s 39ms/step - loss: 0.0063\n",
      "Epoch 4/10\n",
      "46/46 [==============================] - 2s 39ms/step - loss: 0.0056\n",
      "Epoch 5/10\n",
      "46/46 [==============================] - 2s 38ms/step - loss: 0.0062\n",
      "Epoch 6/10\n",
      "46/46 [==============================] - 2s 38ms/step - loss: 0.0057\n",
      "Epoch 7/10\n",
      "46/46 [==============================] - 2s 39ms/step - loss: 0.0054\n",
      "Epoch 8/10\n",
      "46/46 [==============================] - 2s 39ms/step - loss: 0.0049\n",
      "Epoch 9/10\n",
      "46/46 [==============================] - 2s 38ms/step - loss: 0.0045\n",
      "Epoch 10/10\n",
      "46/46 [==============================] - 2s 39ms/step - loss: 0.0054\n"
     ]
    },
    {
     "data": {
      "text/plain": [
       "<keras.callbacks.History at 0x1f8fd48a3d0>"
      ]
     },
     "execution_count": 41,
     "metadata": {},
     "output_type": "execute_result"
    }
   ],
   "source": [
    "model2 = LSTM_layers(window_size+1, 1)\n",
    "model2.compile(loss=MeanSquaredError(), optimizer=Adam(learning_rate=0.001))\n",
    "model2.fit(X_train2,Y_train2, epochs=10)"
   ]
  },
  {
   "cell_type": "code",
   "execution_count": 42,
   "id": "c912f486",
   "metadata": {},
   "outputs": [
    {
     "name": "stdout",
     "output_type": "stream",
     "text": [
      "12/12 [==============================] - 1s 14ms/step\n"
     ]
    },
    {
     "data": {
      "text/html": [
       "<div>\n",
       "<style scoped>\n",
       "    .dataframe tbody tr th:only-of-type {\n",
       "        vertical-align: middle;\n",
       "    }\n",
       "\n",
       "    .dataframe tbody tr th {\n",
       "        vertical-align: top;\n",
       "    }\n",
       "\n",
       "    .dataframe thead th {\n",
       "        text-align: right;\n",
       "    }\n",
       "</style>\n",
       "<table border=\"1\" class=\"dataframe\">\n",
       "  <thead>\n",
       "    <tr style=\"text-align: right;\">\n",
       "      <th></th>\n",
       "      <th>MSE</th>\n",
       "      <th>MAE</th>\n",
       "      <th>MAPE</th>\n",
       "      <th>Accuracy</th>\n",
       "    </tr>\n",
       "  </thead>\n",
       "  <tbody>\n",
       "    <tr>\n",
       "      <th>Pair LSTM</th>\n",
       "      <td>0.003061</td>\n",
       "      <td>0.041322</td>\n",
       "      <td>0.093633</td>\n",
       "      <td>0.906367</td>\n",
       "    </tr>\n",
       "  </tbody>\n",
       "</table>\n",
       "</div>"
      ],
      "text/plain": [
       "                MSE       MAE      MAPE  Accuracy\n",
       "Pair LSTM  0.003061  0.041322  0.093633  0.906367"
      ]
     },
     "execution_count": 42,
     "metadata": {},
     "output_type": "execute_result"
    }
   ],
   "source": [
    "res2 = performance_measure(model2, X_test2, Y_test2.flatten(), 'Pair LSTM')\n",
    "res2"
   ]
  },
  {
   "cell_type": "markdown",
   "id": "8213af3f",
   "metadata": {},
   "source": [
    "I combine the 3 performance measure tables. <br>\n",
    "I can see that the Additional feature LSTM way of incorporating sentiment score performed better for this specific stock. "
   ]
  },
  {
   "cell_type": "code",
   "execution_count": 43,
   "id": "f813f6c9",
   "metadata": {},
   "outputs": [
    {
     "data": {
      "text/html": [
       "<div>\n",
       "<style scoped>\n",
       "    .dataframe tbody tr th:only-of-type {\n",
       "        vertical-align: middle;\n",
       "    }\n",
       "\n",
       "    .dataframe tbody tr th {\n",
       "        vertical-align: top;\n",
       "    }\n",
       "\n",
       "    .dataframe thead th {\n",
       "        text-align: right;\n",
       "    }\n",
       "</style>\n",
       "<table border=\"1\" class=\"dataframe\">\n",
       "  <thead>\n",
       "    <tr style=\"text-align: right;\">\n",
       "      <th></th>\n",
       "      <th>MSE</th>\n",
       "      <th>MAE</th>\n",
       "      <th>MAPE</th>\n",
       "      <th>Accuracy</th>\n",
       "    </tr>\n",
       "  </thead>\n",
       "  <tbody>\n",
       "    <tr>\n",
       "      <th>Standard LSTM</th>\n",
       "      <td>0.003729</td>\n",
       "      <td>0.048097</td>\n",
       "      <td>0.103790</td>\n",
       "      <td>0.896210</td>\n",
       "    </tr>\n",
       "    <tr>\n",
       "      <th>Pair LSTM</th>\n",
       "      <td>0.004275</td>\n",
       "      <td>0.052414</td>\n",
       "      <td>0.111835</td>\n",
       "      <td>0.888165</td>\n",
       "    </tr>\n",
       "    <tr>\n",
       "      <th>Pair LSTM</th>\n",
       "      <td>0.003061</td>\n",
       "      <td>0.041322</td>\n",
       "      <td>0.093633</td>\n",
       "      <td>0.906367</td>\n",
       "    </tr>\n",
       "  </tbody>\n",
       "</table>\n",
       "</div>"
      ],
      "text/plain": [
       "                    MSE       MAE      MAPE  Accuracy\n",
       "Standard LSTM  0.003729  0.048097  0.103790  0.896210\n",
       "Pair LSTM      0.004275  0.052414  0.111835  0.888165\n",
       "Pair LSTM      0.003061  0.041322  0.093633  0.906367"
      ]
     },
     "execution_count": 43,
     "metadata": {},
     "output_type": "execute_result"
    }
   ],
   "source": [
    "summary = pd.concat([res0, res1, res2], axis = 0)\n",
    "summary"
   ]
  },
  {
   "cell_type": "markdown",
   "id": "f1133c88",
   "metadata": {},
   "source": [
    "###  3. Performance\n",
    "I now put these code into functions and test on a few more stocks."
   ]
  },
  {
   "cell_type": "code",
   "execution_count": 202,
   "id": "d6690a97",
   "metadata": {},
   "outputs": [
    {
     "name": "stdout",
     "output_type": "stream",
     "text": [
      "The autoreload extension is already loaded. To reload it, use:\n",
      "  %reload_ext autoreload\n"
     ]
    }
   ],
   "source": [
    "import toolkit as tk\n",
    "\n",
    "%load_ext autoreload\n",
    "%autoreload 2"
   ]
  },
  {
   "cell_type": "code",
   "execution_count": 169,
   "id": "9cdcb3f2",
   "metadata": {},
   "outputs": [],
   "source": [
    "stocks = tk.load_data()"
   ]
  },
  {
   "cell_type": "code",
   "execution_count": 171,
   "id": "def77ca1",
   "metadata": {},
   "outputs": [
    {
     "name": "stdout",
     "output_type": "stream",
     "text": [
      "12/12 [==============================] - 1s 9ms/step\n",
      "12/12 [==============================] - 1s 9ms/step\n",
      "12/12 [==============================] - 1s 10ms/step\n"
     ]
    },
    {
     "data": {
      "text/html": [
       "<div>\n",
       "<style scoped>\n",
       "    .dataframe tbody tr th:only-of-type {\n",
       "        vertical-align: middle;\n",
       "    }\n",
       "\n",
       "    .dataframe tbody tr th {\n",
       "        vertical-align: top;\n",
       "    }\n",
       "\n",
       "    .dataframe thead th {\n",
       "        text-align: right;\n",
       "    }\n",
       "</style>\n",
       "<table border=\"1\" class=\"dataframe\">\n",
       "  <thead>\n",
       "    <tr style=\"text-align: right;\">\n",
       "      <th></th>\n",
       "      <th>MSE</th>\n",
       "      <th>MAE</th>\n",
       "      <th>MAPE</th>\n",
       "      <th>Accuracy</th>\n",
       "    </tr>\n",
       "  </thead>\n",
       "  <tbody>\n",
       "    <tr>\n",
       "      <th>Standard LSTM</th>\n",
       "      <td>0.002485</td>\n",
       "      <td>0.037492</td>\n",
       "      <td>0.081043</td>\n",
       "      <td>0.918957</td>\n",
       "    </tr>\n",
       "    <tr>\n",
       "      <th>LSTM Pair</th>\n",
       "      <td>0.003014</td>\n",
       "      <td>0.040175</td>\n",
       "      <td>0.088873</td>\n",
       "      <td>0.911127</td>\n",
       "    </tr>\n",
       "    <tr>\n",
       "      <th>LSTM Addl feature</th>\n",
       "      <td>0.002365</td>\n",
       "      <td>0.035588</td>\n",
       "      <td>0.079660</td>\n",
       "      <td>0.920340</td>\n",
       "    </tr>\n",
       "  </tbody>\n",
       "</table>\n",
       "</div>"
      ],
      "text/plain": [
       "                        MSE       MAE      MAPE  Accuracy\n",
       "Standard LSTM      0.002485  0.037492  0.081043  0.918957\n",
       "LSTM Pair          0.003014  0.040175  0.088873  0.911127\n",
       "LSTM Addl feature  0.002365  0.035588  0.079660  0.920340"
      ]
     },
     "execution_count": 171,
     "metadata": {},
     "output_type": "execute_result"
    }
   ],
   "source": [
    "ticker = 'LBQCYGN' #US stock\n",
    "\n",
    "summary = tk.run_price_predict(ticker)\n",
    "summary"
   ]
  },
  {
   "cell_type": "code",
   "execution_count": 175,
   "id": "e980b2c8",
   "metadata": {},
   "outputs": [
    {
     "name": "stdout",
     "output_type": "stream",
     "text": [
      "12/12 [==============================] - 1s 14ms/step\n",
      "12/12 [==============================] - 1s 13ms/step\n",
      "12/12 [==============================] - 1s 13ms/step\n",
      "IROSROA                         MSE       MAE      MAPE  Accuracy\n",
      "Standard LSTM      0.005570  0.058927  0.252345  0.747655\n",
      "LSTM Pair          0.007531  0.071464  0.252801  0.747199\n",
      "LSTM Addl feature  0.005436  0.058968  0.239385  0.760615\n",
      "12/12 [==============================] - 1s 12ms/step\n",
      "12/12 [==============================] - 1s 14ms/step\n",
      "12/12 [==============================] - 1s 13ms/step\n",
      "LBQCYGN                         MSE       MAE      MAPE  Accuracy\n",
      "Standard LSTM      0.002816  0.038682  0.084681  0.915319\n",
      "LSTM Pair          0.002832  0.042268  0.086336  0.913664\n",
      "LSTM Addl feature  0.002054  0.034322  0.074278  0.925722\n"
     ]
    }
   ],
   "source": [
    "for ticker in stocks['ID'].unique()[:5]:\n",
    "    summary = tk.run_price_predict(ticker)\n",
    "    print(ticker, summary)"
   ]
  },
  {
   "cell_type": "markdown",
   "id": "681f8d8e",
   "metadata": {},
   "source": [
    "From the above, we can see that for the stock examples, LSTM Additional Feature model provides performance improvement over the standard LSTM model. \n",
    "\n",
    "\n",
    "###  4. Stock price predictions\n",
    "Given the above, I will use the **LSTM Additional Feature model** to predict the one-day-ahead stock price for the 100 stocks."
   ]
  },
  {
   "cell_type": "code",
   "execution_count": 46,
   "id": "fdcc7fe8",
   "metadata": {},
   "outputs": [
    {
     "name": "stdout",
     "output_type": "stream",
     "text": [
      "The autoreload extension is already loaded. To reload it, use:\n",
      "  %reload_ext autoreload\n"
     ]
    }
   ],
   "source": [
    "import toolkit as tk\n",
    "\n",
    "%load_ext autoreload\n",
    "%autoreload 2"
   ]
  },
  {
   "cell_type": "code",
   "execution_count": 47,
   "id": "943e8646",
   "metadata": {},
   "outputs": [],
   "source": [
    "stocks = tk.load_data()\n",
    "stock_list = list(stocks['ID'].unique())"
   ]
  },
  {
   "cell_type": "markdown",
   "id": "713e7190",
   "metadata": {},
   "source": [
    "After testing a few different window sizes, I chose 5 as the window size as it gives the highest average accuracy in my sample.\n",
    "<br>\n",
    "**I commented out the code below as it takes a long time to run the prediction**.\n",
    "<br>\n",
    "**For price prediction results, see *Price USD predict.csv* file.**"
   ]
  },
  {
   "cell_type": "code",
   "execution_count": null,
   "id": "bd10e23e",
   "metadata": {},
   "outputs": [],
   "source": [
    "# result_dict = {}\n",
    "\n",
    "# for ticker in stock_list:\n",
    "#     df = tk.stock_df(stocks, ticker)\n",
    "#     res_tup = tk.predict_LSTM_af(df, 5) \n",
    "#     result_dict[ticker] = {'Price in USD': res_tup[0], \n",
    "#                            'Accuracy': res_tup[1],\n",
    "#                           'Country': df['Country'].values[0]}\n",
    "\n",
    "# price_predict_USD = pd.DataFrame.from_dict(result_dict, orient='index')"
   ]
  },
  {
   "cell_type": "code",
   "execution_count": null,
   "id": "3cbcdf05",
   "metadata": {},
   "outputs": [],
   "source": [
    "# price_predict_USD"
   ]
  },
  {
   "cell_type": "code",
   "execution_count": null,
   "id": "f1e8d2f0",
   "metadata": {},
   "outputs": [],
   "source": [
    "# price_predict_USD.to_csv('Price USD predict.csv') #It took a while to run so I put this into a file for later use"
   ]
  },
  {
   "cell_type": "code",
   "execution_count": null,
   "id": "4a22dd90",
   "metadata": {},
   "outputs": [],
   "source": [
    "# price_predict_USD['Accuracy'].median()"
   ]
  },
  {
   "cell_type": "code",
   "execution_count": null,
   "id": "72585a12",
   "metadata": {},
   "outputs": [],
   "source": []
  },
  {
   "cell_type": "markdown",
   "id": "e170d774",
   "metadata": {},
   "source": [
    "## II. Predicting Stock volume\n",
    "###  1. Explore the data"
   ]
  },
  {
   "cell_type": "code",
   "execution_count": 48,
   "id": "addfeaff",
   "metadata": {},
   "outputs": [
    {
     "data": {
      "text/plain": [
       "<AxesSubplot:>"
      ]
     },
     "execution_count": 48,
     "metadata": {},
     "output_type": "execute_result"
    },
    {
     "data": {
      "image/png": "[encoded data removed]",
      "text/plain": [
       "<Figure size 864x432 with 1 Axes>"
      ]
     },
     "metadata": {
      "needs_background": "light"
     },
     "output_type": "display_data"
    }
   ],
   "source": [
    "stocks = tk.load_data()\n",
    "\n",
    "ticker = 'IROSROA' #take a random stock\n",
    "df = tk.stock_df(stocks, ticker)\n",
    "df['Volume'].plot(figsize = (12, 6))"
   ]
  },
  {
   "cell_type": "markdown",
   "id": "d66ebe0c",
   "metadata": {},
   "source": [
    "Compared to the Price series, the Volume series is much more stationary. <br> \n",
    "I run ADF to test."
   ]
  },
  {
   "cell_type": "code",
   "execution_count": 49,
   "id": "3bf767b0",
   "metadata": {},
   "outputs": [
    {
     "name": "stdout",
     "output_type": "stream",
     "text": [
      "ADF Statistic: -2.886318\n",
      "p-value: 0.046962\n",
      "Critical Values:\n",
      "\t1%: -3.434\n",
      "\t5%: -2.863\n",
      "\t10%: -2.568\n"
     ]
    }
   ],
   "source": [
    "from statsmodels.tsa.stattools import adfuller\n",
    "\n",
    "result = adfuller(df['Volume'])\n",
    "print('ADF Statistic: %f' % result[0])\n",
    "print('p-value: %f' % result[1])\n",
    "print('Critical Values:')\n",
    "for key, value in result[4].items():\n",
    "    print('\\t%s: %.3f' % (key, value))"
   ]
  },
  {
   "cell_type": "markdown",
   "id": "fd36d337",
   "metadata": {},
   "source": [
    "I can reject the null hypothesis at 5% significance level. The series is stationary.\n",
    "<br>\n",
    "I test another stock."
   ]
  },
  {
   "cell_type": "code",
   "execution_count": 50,
   "id": "2772e812",
   "metadata": {},
   "outputs": [
    {
     "name": "stdout",
     "output_type": "stream",
     "text": [
      "ADF Statistic: -3.529890\n",
      "p-value: 0.007252\n",
      "Critical Values:\n",
      "\t1%: -3.434\n",
      "\t5%: -2.863\n",
      "\t10%: -2.568\n"
     ]
    },
    {
     "data": {
      "image/png": "[encoded data removed]",
      "text/plain": [
       "<Figure size 864x432 with 1 Axes>"
      ]
     },
     "metadata": {
      "needs_background": "light"
     },
     "output_type": "display_data"
    }
   ],
   "source": [
    "ticker = 'LBQCYGN'\n",
    "\n",
    "df = tk.stock_df(stocks, ticker)\n",
    "df['Volume'].plot(figsize = (12, 6))\n",
    "\n",
    "result = adfuller(df['Volume'])\n",
    "print('ADF Statistic: %f' % result[0])\n",
    "print('p-value: %f' % result[1])\n",
    "print('Critical Values:')\n",
    "for key, value in result[4].items():\n",
    "    print('\\t%s: %.3f' % (key, value))"
   ]
  },
  {
   "cell_type": "markdown",
   "id": "40d19178",
   "metadata": {},
   "source": [
    "I reject the null hypothesis with significance level of 1%. \n",
    "<br>\n",
    "The series is stationary.  "
   ]
  },
  {
   "cell_type": "markdown",
   "id": "4ab57afc",
   "metadata": {},
   "source": [
    "<br>\n",
    "Intuitively, trading volume should be affected by Price/return, Volatility, and Sentiment, and that relationship is explored extensively already[6].<br>\n",
    "I plot these 3 relationships below."
   ]
  },
  {
   "cell_type": "code",
   "execution_count": 55,
   "id": "bcdbd067",
   "metadata": {},
   "outputs": [],
   "source": [
    "def linear_plot(ticker):\n",
    "    df = tk.stock_df(stocks, ticker)[['Price USD','Volume','Volatility','Spread','Sentiment']]\n",
    "\n",
    "    fig, (ax1, ax2, ax3) = plt.subplots(ncols=3, nrows=1, figsize = (21,4))\n",
    "\n",
    "    ax1.scatter(df['Price USD'], df['Volume'])\n",
    "    ax1.set_xlabel('Volume')\n",
    "    ax1.set_ylabel('Price USD')\n",
    "    ax1.set_title('Pirce USD - Volume')\n",
    "\n",
    "    ax2.scatter(df['Volatility'], df['Volume'])\n",
    "    ax2.set_xlabel('Volatility')\n",
    "    ax2.set_ylabel('Volume')\n",
    "    ax2.set_title('Volatility - Volume')\n",
    "\n",
    "    ax3.scatter(df['Sentiment'], df['Volume'])\n",
    "    ax3.set_xlabel('Sentiment')\n",
    "    ax3.set_ylabel('Volume')\n",
    "    ax3.set_title('Sentiment - Volume')"
   ]
  },
  {
   "cell_type": "code",
   "execution_count": 56,
   "id": "3731fe80",
   "metadata": {},
   "outputs": [
    {
     "data": {
      "image/png": "[encoded data removed]",
      "text/plain": [
       "<Figure size 1512x288 with 3 Axes>"
      ]
     },
     "metadata": {
      "needs_background": "light"
     },
     "output_type": "display_data"
    }
   ],
   "source": [
    "linear_plot('IROSROA')"
   ]
  },
  {
   "cell_type": "code",
   "execution_count": 57,
   "id": "4d3fb8c1",
   "metadata": {},
   "outputs": [
    {
     "data": {
      "image/png": "[encoded data removed]",
      "text/plain": [
       "<Figure size 1512x288 with 3 Axes>"
      ]
     },
     "metadata": {
      "needs_background": "light"
     },
     "output_type": "display_data"
    }
   ],
   "source": [
    "linear_plot('GZMNIJI')"
   ]
  },
  {
   "cell_type": "code",
   "execution_count": 58,
   "id": "7d38f3b3",
   "metadata": {},
   "outputs": [
    {
     "data": {
      "image/png": "[encoded data removed]",
      "text/plain": [
       "<Figure size 1512x288 with 3 Axes>"
      ]
     },
     "metadata": {
      "needs_background": "light"
     },
     "output_type": "display_data"
    }
   ],
   "source": [
    "linear_plot('TJXKVVW')"
   ]
  },
  {
   "cell_type": "markdown",
   "id": "e1b82e98",
   "metadata": {},
   "source": [
    "Given the stationarity and linearity, as well as the relationship between Volume and Price, Volatility and Sentiment, I consider using multiple linear regression (MLR) model to predict the volume. \n",
    "<br>\n",
    "For this, I check the correlations among the variables."
   ]
  },
  {
   "cell_type": "code",
   "execution_count": 59,
   "id": "ec5af384",
   "metadata": {},
   "outputs": [],
   "source": [
    "import seaborn as sn\n",
    "\n",
    "corr_cols = ['Volume', 'Volatility', 'Price USD', 'Sentiment']\n",
    "\n",
    "def corr_hm(ticker):\n",
    "    df = tk.stock_df(stocks, ticker)[corr_cols]\n",
    "    df['Return T-1'] = df['Price USD'].pct_change().shift(-1) # add previous day return to check as well \n",
    "    corr_matrix = df.corr()\n",
    "    return sn.heatmap(corr_matrix, annot=True)"
   ]
  },
  {
   "cell_type": "code",
   "execution_count": 60,
   "id": "1d099c6d",
   "metadata": {},
   "outputs": [
    {
     "data": {
      "text/plain": [
       "<AxesSubplot:>"
      ]
     },
     "execution_count": 60,
     "metadata": {},
     "output_type": "execute_result"
    },
    {
     "data": {
      "image/png": "[encoded data removed]",
      "text/plain": [
       "<Figure size 432x288 with 2 Axes>"
      ]
     },
     "metadata": {
      "needs_background": "light"
     },
     "output_type": "display_data"
    }
   ],
   "source": [
    "corr_hm(ticker = 'IROSROA')"
   ]
  },
  {
   "cell_type": "code",
   "execution_count": 61,
   "id": "0f50fc29",
   "metadata": {},
   "outputs": [
    {
     "data": {
      "text/plain": [
       "<AxesSubplot:>"
      ]
     },
     "execution_count": 61,
     "metadata": {},
     "output_type": "execute_result"
    },
    {
     "data": {
      "image/png": "[encoded data removed]",
      "text/plain": [
       "<Figure size 432x288 with 2 Axes>"
      ]
     },
     "metadata": {
      "needs_background": "light"
     },
     "output_type": "display_data"
    }
   ],
   "source": [
    "corr_hm('GZMNIJI')"
   ]
  },
  {
   "cell_type": "code",
   "execution_count": 62,
   "id": "f8f66ee1",
   "metadata": {},
   "outputs": [
    {
     "data": {
      "text/plain": [
       "<AxesSubplot:>"
      ]
     },
     "execution_count": 62,
     "metadata": {},
     "output_type": "execute_result"
    },
    {
     "data": {
      "image/png": "[encoded data removed]",
      "text/plain": [
       "<Figure size 432x288 with 2 Axes>"
      ]
     },
     "metadata": {
      "needs_background": "light"
     },
     "output_type": "display_data"
    }
   ],
   "source": [
    "corr_hm('TJXKVVW')"
   ]
  },
  {
   "cell_type": "markdown",
   "id": "c53e6603",
   "metadata": {},
   "source": [
    "From the correlation matrix, we can there's some level of correlation between Volatility and Sentiment, which is intuitive. "
   ]
  },
  {
   "cell_type": "markdown",
   "id": "1b2b838b",
   "metadata": {},
   "source": [
    "###  2. MLR & comments on other statistical models\n",
    "I start by asessing Volume with 2 variables Price USD and Volatility."
   ]
  },
  {
   "cell_type": "code",
   "execution_count": 63,
   "id": "fff5f6e4",
   "metadata": {},
   "outputs": [],
   "source": [
    "ticker = 'GZMNIJI'\n",
    "\n",
    "df = tk.stock_df(stocks, ticker)\n",
    "X, Y = df[['Price USD','Volatility','Sentiment']], df['Volume']\n",
    "X_train, Y_train, X_test, Y_test = tk.split_data(X, Y, train_split = 0.8)"
   ]
  },
  {
   "cell_type": "code",
   "execution_count": 64,
   "id": "6249dd43",
   "metadata": {},
   "outputs": [
    {
     "data": {
      "text/html": [
       "<div>\n",
       "<style scoped>\n",
       "    .dataframe tbody tr th:only-of-type {\n",
       "        vertical-align: middle;\n",
       "    }\n",
       "\n",
       "    .dataframe tbody tr th {\n",
       "        vertical-align: top;\n",
       "    }\n",
       "\n",
       "    .dataframe thead th {\n",
       "        text-align: right;\n",
       "    }\n",
       "</style>\n",
       "<table border=\"1\" class=\"dataframe\">\n",
       "  <thead>\n",
       "    <tr style=\"text-align: right;\">\n",
       "      <th></th>\n",
       "      <th>MSE</th>\n",
       "      <th>MAE</th>\n",
       "      <th>MAPE</th>\n",
       "      <th>R2</th>\n",
       "    </tr>\n",
       "  </thead>\n",
       "  <tbody>\n",
       "    <tr>\n",
       "      <th>GZMNIJI</th>\n",
       "      <td>25455.174651</td>\n",
       "      <td>84.586909</td>\n",
       "      <td>0.320795</td>\n",
       "      <td>0.091062</td>\n",
       "    </tr>\n",
       "  </tbody>\n",
       "</table>\n",
       "</div>"
      ],
      "text/plain": [
       "                  MSE        MAE      MAPE        R2\n",
       "GZMNIJI  25455.174651  84.586909  0.320795  0.091062"
      ]
     },
     "execution_count": 64,
     "metadata": {},
     "output_type": "execute_result"
    }
   ],
   "source": [
    "from sklearn.linear_model import LinearRegression\n",
    "\n",
    "LR = LinearRegression()\n",
    "LR.fit(X_train,Y_train)\n",
    "y_predict =  LR.predict(X_test)\n",
    "\n",
    "from sklearn.metrics import r2_score as R2\n",
    "pd.DataFrame({'MSE': mse(Y_test, y_predict), \n",
    "'MAE': mae(Y_test, y_predict), \n",
    "'MAPE': mape(Y_test, y_predict),\n",
    "'R2':R2(Y_test, y_predict)}, index = [ticker])"
   ]
  },
  {
   "cell_type": "markdown",
   "id": "bf9b5031",
   "metadata": {},
   "source": [
    "This gives a very bad fit. \n",
    "<br>\n",
    "\n",
    "I plot the autocorrelation plot with lag = 1, 2, 3 below"
   ]
  },
  {
   "cell_type": "code",
   "execution_count": 65,
   "id": "d0d1f7e8",
   "metadata": {},
   "outputs": [
    {
     "data": {
      "image/png": "[encoded data removed]",
      "text/plain": [
       "<Figure size 432x288 with 1 Axes>"
      ]
     },
     "metadata": {
      "needs_background": "light"
     },
     "output_type": "display_data"
    }
   ],
   "source": [
    "plt.figure()\n",
    "lag_plot(df['Volume'], lag=1)\n",
    "plt.title('Autocorrelation plot with lag = 1')\n",
    "plt.show()"
   ]
  },
  {
   "cell_type": "code",
   "execution_count": 66,
   "id": "d1dc4187",
   "metadata": {},
   "outputs": [
    {
     "data": {
      "image/png": "[encoded data removed]",
      "text/plain": [
       "<Figure size 432x288 with 1 Axes>"
      ]
     },
     "metadata": {
      "needs_background": "light"
     },
     "output_type": "display_data"
    }
   ],
   "source": [
    "plt.figure()\n",
    "lag_plot(df['Volume'], lag=2)\n",
    "plt.title('Autocorrelation plot with lag = 2')\n",
    "plt.show()"
   ]
  },
  {
   "cell_type": "code",
   "execution_count": 67,
   "id": "551778dd",
   "metadata": {},
   "outputs": [
    {
     "data": {
      "image/png": "[encoded data removed]",
      "text/plain": [
       "<Figure size 432x288 with 1 Axes>"
      ]
     },
     "metadata": {
      "needs_background": "light"
     },
     "output_type": "display_data"
    }
   ],
   "source": [
    "plt.figure()\n",
    "lag_plot(df['Volume'], lag=3)\n",
    "plt.title('Autocorrelation plot with lag = 3')\n",
    "plt.show()"
   ]
  },
  {
   "cell_type": "markdown",
   "id": "969c6179",
   "metadata": {},
   "source": [
    "The data does not exhibits autocorrelation so might not be appropriate to use ARIMA model.\n",
    "\n",
    "<br>\n",
    "I plot the daily Volume change in %."
   ]
  },
  {
   "cell_type": "code",
   "execution_count": 68,
   "id": "6b47cbe3",
   "metadata": {},
   "outputs": [
    {
     "data": {
      "text/plain": [
       "<AxesSubplot:xlabel='Date'>"
      ]
     },
     "execution_count": 68,
     "metadata": {},
     "output_type": "execute_result"
    },
    {
     "data": {
      "image/png": "[encoded data removed]",
      "text/plain": [
       "<Figure size 864x432 with 1 Axes>"
      ]
     },
     "metadata": {
      "needs_background": "light"
     },
     "output_type": "display_data"
    }
   ],
   "source": [
    "ticker = 'IROSROA'\n",
    "df = tk.stock_df(stocks, ticker).set_index('Date')\n",
    "df['Volume'].pct_change().plot(figsize = (12, 6))"
   ]
  },
  {
   "cell_type": "code",
   "execution_count": 69,
   "id": "37f2a5a0",
   "metadata": {},
   "outputs": [
    {
     "data": {
      "text/plain": [
       "<AxesSubplot:xlabel='Date'>"
      ]
     },
     "execution_count": 69,
     "metadata": {},
     "output_type": "execute_result"
    },
    {
     "data": {
      "image/png": "[encoded data removed]",
      "text/plain": [
       "<Figure size 864x432 with 1 Axes>"
      ]
     },
     "metadata": {
      "needs_background": "light"
     },
     "output_type": "display_data"
    }
   ],
   "source": [
    "ticker = 'LBQCYGN'\n",
    "df = tk.stock_df(stocks, ticker).set_index('Date')\n",
    "df['Volume'].pct_change().plot(figsize = (12, 6))"
   ]
  },
  {
   "cell_type": "code",
   "execution_count": 70,
   "id": "abc3a8bc",
   "metadata": {},
   "outputs": [
    {
     "data": {
      "text/plain": [
       "<AxesSubplot:xlabel='Date'>"
      ]
     },
     "execution_count": 70,
     "metadata": {},
     "output_type": "execute_result"
    },
    {
     "data": {
      "image/png": "[encoded data removed]",
      "text/plain": [
       "<Figure size 864x432 with 1 Axes>"
      ]
     },
     "metadata": {
      "needs_background": "light"
     },
     "output_type": "display_data"
    }
   ],
   "source": [
    "ticker = 'GZMNIJI'\n",
    "df = tk.stock_df(stocks, ticker).set_index('Date')\n",
    "df['Volume'].pct_change().plot(figsize = (12, 6))"
   ]
  },
  {
   "cell_type": "markdown",
   "id": "350dd373",
   "metadata": {},
   "source": [
    "Given the series is stationary, there aren't really volatility clustering, and I could not find many empirical research examples using GARCH models, I avoid it, although GARCH is used to model and forecast the volatility of financial time series data frequently. \n",
    "\n",
    "###  3. LSTM\n",
    "#### 3.1 LSTM with historical Volume\n",
    "Besides statistical model, Artificial Neural Networks models are also used to predict stock volume, although more work is done adopting various techniques to predict stock prices. It is noted that LSTM contributes to a superior prediction of the change in volume[7]. Here, I adopt the LSTM model mentioned with Volume and Price as the input data. "
   ]
  },
  {
   "cell_type": "code",
   "execution_count": 180,
   "id": "a68f4426",
   "metadata": {},
   "outputs": [],
   "source": [
    "# stocks['ID'].unique()"
   ]
  },
  {
   "cell_type": "markdown",
   "id": "9e197061",
   "metadata": {},
   "source": [
    "With limited reference, I started with one LSTM and gradually increased. The model does not improve with more than 3 layers. \n",
    "<br>\n",
    "Referencing the stock price prediction model, I added the Dropout layers after each LSTM layer.\n",
    "<br>\n",
    "I also chose the window size of 5 after trial and error suggested that it may have the best prediction potential.\n",
    "\n",
    "<br>\n",
    "However, optimization of the layer number and window size along with other model parameters would require additional research."
   ]
  },
  {
   "cell_type": "code",
   "execution_count": 218,
   "id": "038c42a3",
   "metadata": {},
   "outputs": [],
   "source": [
    "ticker = 'SFCZFSB'\n",
    "\n",
    "df = tk.stock_df(stocks, ticker).set_index('Date')"
   ]
  },
  {
   "cell_type": "code",
   "execution_count": 219,
   "id": "04c7dd38",
   "metadata": {},
   "outputs": [],
   "source": [
    "vol_norm = tk.normalized_data(df['Volume'], -1, 1)\n",
    "\n",
    "window_size = 5\n",
    "train_split = 0.8\n",
    "\n",
    "X, Y = tk.df_to_XY(vol_norm, window_size=5)\n",
    "X_train, Y_train, X_test, Y_test = tk.split_data(X, Y, train_split)"
   ]
  },
  {
   "cell_type": "code",
   "execution_count": 220,
   "id": "8f9920ab",
   "metadata": {},
   "outputs": [
    {
     "name": "stdout",
     "output_type": "stream",
     "text": [
      "Epoch 1/2\n",
      "46/46 [==============================] - 7s 45ms/step - loss: 0.1159\n",
      "Epoch 2/2\n",
      "46/46 [==============================] - 3s 57ms/step - loss: 0.0089\n"
     ]
    },
    {
     "data": {
      "text/plain": [
       "<keras.callbacks.History at 0x1f95aed0fd0>"
      ]
     },
     "execution_count": 220,
     "metadata": {},
     "output_type": "execute_result"
    }
   ],
   "source": [
    "model3 = tk.LSTM_layers(window_size, 1)\n",
    "model3.compile(loss=MeanSquaredError(), optimizer=Adam(learning_rate=0.001))\n",
    "model3.fit(X_train,Y_train, epochs=2)"
   ]
  },
  {
   "cell_type": "code",
   "execution_count": 221,
   "id": "7b6b68c0",
   "metadata": {},
   "outputs": [
    {
     "name": "stdout",
     "output_type": "stream",
     "text": [
      "WARNING:tensorflow:5 out of the last 16 calls to <function Model.make_predict_function.<locals>.predict_function at 0x000001F9625875E0> triggered tf.function retracing. Tracing is expensive and the excessive number of tracings could be due to (1) creating @tf.function repeatedly in a loop, (2) passing tensors with different shapes, (3) passing Python objects instead of tensors. For (1), please define your @tf.function outside of the loop. For (2), @tf.function has reduce_retracing=True option that can avoid unnecessary retracing. For (3), please refer to https://www.tensorflow.org/guide/function#controlling_retracing and https://www.tensorflow.org/api_docs/python/tf/function for  more details.\n",
      "12/12 [==============================] - 1s 11ms/step\n"
     ]
    },
    {
     "data": {
      "text/plain": [
       "<matplotlib.legend.Legend at 0x1f959259af0>"
      ]
     },
     "execution_count": 221,
     "metadata": {},
     "output_type": "execute_result"
    },
    {
     "data": {
      "image/png": "[encoded data removed]",
      "text/plain": [
       "<Figure size 432x288 with 1 Axes>"
      ]
     },
     "metadata": {
      "needs_background": "light"
     },
     "output_type": "display_data"
    }
   ],
   "source": [
    "test_predictions = model3.predict(X_test)\n",
    "vol_predict = scaler.inverse_transform(test_predictions)\n",
    "results = pd.DataFrame(data={'Test Predictions':vol_predict.flatten(), \n",
    "                              'Actuals':df.iloc[-len(vol_predict):]['Volume']})\n",
    "\n",
    "plt.plot(results[['Test Predictions', 'Actuals']])\n",
    "plt.legend(['Train', 'Predictions', 'Actuals'], loc='upper left')"
   ]
  },
  {
   "cell_type": "code",
   "execution_count": 222,
   "id": "9661d2a0",
   "metadata": {},
   "outputs": [
    {
     "name": "stdout",
     "output_type": "stream",
     "text": [
      "12/12 [==============================] - 0s 10ms/step\n"
     ]
    },
    {
     "data": {
      "text/html": [
       "<div>\n",
       "<style scoped>\n",
       "    .dataframe tbody tr th:only-of-type {\n",
       "        vertical-align: middle;\n",
       "    }\n",
       "\n",
       "    .dataframe tbody tr th {\n",
       "        vertical-align: top;\n",
       "    }\n",
       "\n",
       "    .dataframe thead th {\n",
       "        text-align: right;\n",
       "    }\n",
       "</style>\n",
       "<table border=\"1\" class=\"dataframe\">\n",
       "  <thead>\n",
       "    <tr style=\"text-align: right;\">\n",
       "      <th></th>\n",
       "      <th>MSE</th>\n",
       "      <th>MAE</th>\n",
       "      <th>MAPE</th>\n",
       "      <th>Accuracy</th>\n",
       "    </tr>\n",
       "  </thead>\n",
       "  <tbody>\n",
       "    <tr>\n",
       "      <th>LSTM Vol</th>\n",
       "      <td>0.006315</td>\n",
       "      <td>0.048798</td>\n",
       "      <td>0.204366</td>\n",
       "      <td>0.795634</td>\n",
       "    </tr>\n",
       "  </tbody>\n",
       "</table>\n",
       "</div>"
      ],
      "text/plain": [
       "               MSE       MAE      MAPE  Accuracy\n",
       "LSTM Vol  0.006315  0.048798  0.204366  0.795634"
      ]
     },
     "execution_count": 222,
     "metadata": {},
     "output_type": "execute_result"
    }
   ],
   "source": [
    "predictions = test_predictions.flatten()\n",
    "res3 = tk.performance_measure(model3, X_test, Y_test.flatten(), 'LSTM Vol')\n",
    "res3"
   ]
  },
  {
   "cell_type": "markdown",
   "id": "e96d22c0",
   "metadata": {},
   "source": [
    "#### 3.1 LSTM incorporating Pirce"
   ]
  },
  {
   "cell_type": "code",
   "execution_count": 194,
   "id": "0daf2c62",
   "metadata": {},
   "outputs": [],
   "source": [
    "vol_norm = tk.normalized_data(df['Volume'], -1, 1)\n",
    "px_norm = tk.normalized_data(df['Price USD'], -1, 1)\n",
    "\n",
    "\n",
    "window_size = 5\n",
    "train_split = 0.8\n",
    "\n",
    "X, Y = tk.df_to_XY_add_sent(vol_norm, px_norm, window_size=5)\n",
    "X_train, Y_train, X_test, Y_test = tk.split_data(X, Y, train_split)"
   ]
  },
  {
   "cell_type": "code",
   "execution_count": 195,
   "id": "299baef3",
   "metadata": {},
   "outputs": [
    {
     "name": "stdout",
     "output_type": "stream",
     "text": [
      "Epoch 1/5\n",
      "46/46 [==============================] - 10s 95ms/step - loss: 0.1018\n",
      "Epoch 2/5\n",
      "46/46 [==============================] - 4s 91ms/step - loss: 0.0085\n",
      "Epoch 3/5\n",
      "46/46 [==============================] - 4s 89ms/step - loss: 0.0084\n",
      "Epoch 4/5\n",
      "46/46 [==============================] - 5s 112ms/step - loss: 0.0082\n",
      "Epoch 5/5\n",
      "46/46 [==============================] - 5s 113ms/step - loss: 0.0083\n"
     ]
    },
    {
     "data": {
      "text/plain": [
       "<keras.callbacks.History at 0x1f889880070>"
      ]
     },
     "execution_count": 195,
     "metadata": {},
     "output_type": "execute_result"
    }
   ],
   "source": [
    "model4 = tk.LSTM_layers(window_size+1, 1)\n",
    "model4.compile(loss=MeanSquaredError(), optimizer=Adam(learning_rate=0.001))\n",
    "model4.fit(X_train,Y_train, epochs=5)"
   ]
  },
  {
   "cell_type": "code",
   "execution_count": 196,
   "id": "3e6b7c39",
   "metadata": {},
   "outputs": [
    {
     "name": "stdout",
     "output_type": "stream",
     "text": [
      "12/12 [==============================] - 2s 12ms/step\n"
     ]
    },
    {
     "data": {
      "text/plain": [
       "<matplotlib.legend.Legend at 0x1f88975f940>"
      ]
     },
     "execution_count": 196,
     "metadata": {},
     "output_type": "execute_result"
    },
    {
     "data": {
      "image/png": "[encoded data removed]",
      "text/plain": [
       "<Figure size 432x288 with 1 Axes>"
      ]
     },
     "metadata": {
      "needs_background": "light"
     },
     "output_type": "display_data"
    }
   ],
   "source": [
    "test_predictions = model4.predict(X_test)\n",
    "vol_predict = scaler.inverse_transform(test_predictions)\n",
    "results = pd.DataFrame(data={'Test Predictions':vol_predict.flatten(), \n",
    "                              'Actuals':df.iloc[-len(vol_predict):]['Volume']})\n",
    "\n",
    "plt.plot(results[['Test Predictions', 'Actuals']])\n",
    "plt.legend(['Train', 'Predictions', 'Actuals'], loc='upper left')"
   ]
  },
  {
   "cell_type": "code",
   "execution_count": 197,
   "id": "86f392f0",
   "metadata": {},
   "outputs": [
    {
     "name": "stdout",
     "output_type": "stream",
     "text": [
      "12/12 [==============================] - 1s 16ms/step\n"
     ]
    },
    {
     "data": {
      "text/html": [
       "<div>\n",
       "<style scoped>\n",
       "    .dataframe tbody tr th:only-of-type {\n",
       "        vertical-align: middle;\n",
       "    }\n",
       "\n",
       "    .dataframe tbody tr th {\n",
       "        vertical-align: top;\n",
       "    }\n",
       "\n",
       "    .dataframe thead th {\n",
       "        text-align: right;\n",
       "    }\n",
       "</style>\n",
       "<table border=\"1\" class=\"dataframe\">\n",
       "  <thead>\n",
       "    <tr style=\"text-align: right;\">\n",
       "      <th></th>\n",
       "      <th>MSE</th>\n",
       "      <th>MAE</th>\n",
       "      <th>MAPE</th>\n",
       "      <th>Accuracy</th>\n",
       "    </tr>\n",
       "  </thead>\n",
       "  <tbody>\n",
       "    <tr>\n",
       "      <th>LSTM Vol Price</th>\n",
       "      <td>0.125564</td>\n",
       "      <td>0.346342</td>\n",
       "      <td>0.623665</td>\n",
       "      <td>0.376335</td>\n",
       "    </tr>\n",
       "  </tbody>\n",
       "</table>\n",
       "</div>"
      ],
      "text/plain": [
       "                     MSE       MAE      MAPE  Accuracy\n",
       "LSTM Vol Price  0.125564  0.346342  0.623665  0.376335"
      ]
     },
     "execution_count": 197,
     "metadata": {},
     "output_type": "execute_result"
    }
   ],
   "source": [
    "predictions = test_predictions.flatten()\n",
    "res4 = tk.performance_measure(model3, X_test, Y_test.flatten(), 'LSTM Vol Price')\n",
    "res4"
   ]
  },
  {
   "cell_type": "code",
   "execution_count": 198,
   "id": "7cc3c5b7",
   "metadata": {},
   "outputs": [
    {
     "data": {
      "text/html": [
       "<div>\n",
       "<style scoped>\n",
       "    .dataframe tbody tr th:only-of-type {\n",
       "        vertical-align: middle;\n",
       "    }\n",
       "\n",
       "    .dataframe tbody tr th {\n",
       "        vertical-align: top;\n",
       "    }\n",
       "\n",
       "    .dataframe thead th {\n",
       "        text-align: right;\n",
       "    }\n",
       "</style>\n",
       "<table border=\"1\" class=\"dataframe\">\n",
       "  <thead>\n",
       "    <tr style=\"text-align: right;\">\n",
       "      <th></th>\n",
       "      <th>MSE</th>\n",
       "      <th>MAE</th>\n",
       "      <th>MAPE</th>\n",
       "      <th>Accuracy</th>\n",
       "    </tr>\n",
       "  </thead>\n",
       "  <tbody>\n",
       "    <tr>\n",
       "      <th>LSTM Vol</th>\n",
       "      <td>0.005556</td>\n",
       "      <td>0.037218</td>\n",
       "      <td>0.198817</td>\n",
       "      <td>0.801183</td>\n",
       "    </tr>\n",
       "    <tr>\n",
       "      <th>LSTM Vol Price</th>\n",
       "      <td>0.125564</td>\n",
       "      <td>0.346342</td>\n",
       "      <td>0.623665</td>\n",
       "      <td>0.376335</td>\n",
       "    </tr>\n",
       "  </tbody>\n",
       "</table>\n",
       "</div>"
      ],
      "text/plain": [
       "                     MSE       MAE      MAPE  Accuracy\n",
       "LSTM Vol        0.005556  0.037218  0.198817  0.801183\n",
       "LSTM Vol Price  0.125564  0.346342  0.623665  0.376335"
      ]
     },
     "execution_count": 198,
     "metadata": {},
     "output_type": "execute_result"
    }
   ],
   "source": [
    "pd.concat([res3, res4], axis = 0 )"
   ]
  },
  {
   "cell_type": "markdown",
   "id": "1980463a",
   "metadata": {},
   "source": [
    "It seems that the LSTM with only historical Volume data provides far higher accuracy. \n",
    "\n",
    "I use it to predict the Volume."
   ]
  },
  {
   "cell_type": "code",
   "execution_count": 249,
   "id": "fa745b2d",
   "metadata": {},
   "outputs": [
    {
     "name": "stdout",
     "output_type": "stream",
     "text": [
      "1/1 [==============================] - 1s 1s/step\n",
      "1/1 [==============================] - 1s 1s/step\n",
      "1/1 [==============================] - 1s 1s/step\n",
      "1/1 [==============================] - 1s 1s/step\n",
      "1/1 [==============================] - 1s 1s/step\n",
      "1/1 [==============================] - 1s 1s/step\n",
      "1/1 [==============================] - 1s 1s/step\n",
      "1/1 [==============================] - 1s 1s/step\n",
      "1/1 [==============================] - 1s 1s/step\n",
      "1/1 [==============================] - 1s 1s/step\n",
      "1/1 [==============================] - 1s 1s/step\n",
      "1/1 [==============================] - 1s 1s/step\n",
      "1/1 [==============================] - 1s 1s/step\n",
      "1/1 [==============================] - 1s 1s/step\n",
      "1/1 [==============================] - 1s 1s/step\n",
      "1/1 [==============================] - 1s 1s/step\n",
      "1/1 [==============================] - 1s 1s/step\n",
      "1/1 [==============================] - 1s 1s/step\n",
      "1/1 [==============================] - 1s 1s/step\n",
      "1/1 [==============================] - 1s 1s/step\n",
      "1/1 [==============================] - 2s 2s/step\n",
      "1/1 [==============================] - 1s 1s/step\n",
      "1/1 [==============================] - 1s 1s/step\n",
      "1/1 [==============================] - 1s 1s/step\n",
      "1/1 [==============================] - 1s 1s/step\n",
      "1/1 [==============================] - 1s 1s/step\n",
      "1/1 [==============================] - 1s 1s/step\n",
      "1/1 [==============================] - 4s 4s/step\n",
      "1/1 [==============================] - 1s 1s/step\n",
      "1/1 [==============================] - 1s 1s/step\n",
      "1/1 [==============================] - 3s 3s/step\n",
      "1/1 [==============================] - 1s 1s/step\n",
      "1/1 [==============================] - 1s 1s/step\n",
      "1/1 [==============================] - 1s 1s/step\n",
      "1/1 [==============================] - 1s 1s/step\n",
      "1/1 [==============================] - 1s 1s/step\n",
      "1/1 [==============================] - 1s 1s/step\n",
      "1/1 [==============================] - 1s 1s/step\n",
      "1/1 [==============================] - 1s 1s/step\n",
      "1/1 [==============================] - 1s 1s/step\n",
      "1/1 [==============================] - 1s 1s/step\n",
      "1/1 [==============================] - 1s 1s/step\n",
      "1/1 [==============================] - 1s 1s/step\n",
      "1/1 [==============================] - 2s 2s/step\n",
      "1/1 [==============================] - 1s 1s/step\n",
      "1/1 [==============================] - 1s 1s/step\n",
      "1/1 [==============================] - 1s 1s/step\n",
      "1/1 [==============================] - 1s 1s/step\n",
      "1/1 [==============================] - 1s 1s/step\n",
      "1/1 [==============================] - 1s 1s/step\n",
      "1/1 [==============================] - 3s 3s/step\n",
      "1/1 [==============================] - 1s 1s/step\n",
      "1/1 [==============================] - 1s 1s/step\n",
      "1/1 [==============================] - 1s 1s/step\n",
      "1/1 [==============================] - 1s 1s/step\n",
      "1/1 [==============================] - 1s 1s/step\n",
      "1/1 [==============================] - 1s 1s/step\n",
      "1/1 [==============================] - 1s 1s/step\n",
      "1/1 [==============================] - 1s 1s/step\n",
      "1/1 [==============================] - 1s 1s/step\n",
      "1/1 [==============================] - 1s 1s/step\n",
      "1/1 [==============================] - 1s 1s/step\n",
      "1/1 [==============================] - 1s 1s/step\n",
      "1/1 [==============================] - 1s 1s/step\n",
      "1/1 [==============================] - 1s 1s/step\n",
      "1/1 [==============================] - 1s 1s/step\n",
      "1/1 [==============================] - 2s 2s/step\n",
      "1/1 [==============================] - 1s 1s/step\n",
      "1/1 [==============================] - 1s 1s/step\n",
      "1/1 [==============================] - 1s 1s/step\n",
      "1/1 [==============================] - 1s 1s/step\n",
      "1/1 [==============================] - 1s 1s/step\n",
      "1/1 [==============================] - 1s 1s/step\n",
      "1/1 [==============================] - 1s 1s/step\n",
      "1/1 [==============================] - 2s 2s/step\n",
      "1/1 [==============================] - 2s 2s/step\n",
      "1/1 [==============================] - 1s 1s/step\n",
      "1/1 [==============================] - 1s 1s/step\n",
      "1/1 [==============================] - 1s 1s/step\n",
      "1/1 [==============================] - 1s 1s/step\n",
      "1/1 [==============================] - 1s 1s/step\n",
      "1/1 [==============================] - 1s 1s/step\n",
      "1/1 [==============================] - 1s 1s/step\n",
      "1/1 [==============================] - 1s 1s/step\n",
      "1/1 [==============================] - 1s 1s/step\n",
      "1/1 [==============================] - 1s 1s/step\n",
      "1/1 [==============================] - 1s 1s/step\n",
      "1/1 [==============================] - 1s 1s/step\n",
      "1/1 [==============================] - 1s 1s/step\n",
      "1/1 [==============================] - 1s 1s/step\n",
      "1/1 [==============================] - 1s 1s/step\n",
      "1/1 [==============================] - 1s 1s/step\n",
      "1/1 [==============================] - 1s 1s/step\n",
      "1/1 [==============================] - 1s 1s/step\n",
      "1/1 [==============================] - 1s 1s/step\n",
      "1/1 [==============================] - 2s 2s/step\n",
      "1/1 [==============================] - 1s 1s/step\n",
      "1/1 [==============================] - 1s 1s/step\n",
      "1/1 [==============================] - 3s 3s/step\n",
      "1/1 [==============================] - 1s 1s/step\n"
     ]
    }
   ],
   "source": [
    "# predict_vol_dict = {}\n",
    "# for ticker in stock_list:\n",
    "#     predict_vol_dict[ticker] = tk.predivt_LSTM_volume(ticker)[0][0]"
   ]
  },
  {
   "cell_type": "code",
   "execution_count": 250,
   "id": "5ec3e442",
   "metadata": {},
   "outputs": [],
   "source": [
    "# predict_vol_dict"
   ]
  },
  {
   "cell_type": "code",
   "execution_count": 289,
   "id": "b75c3b8e",
   "metadata": {},
   "outputs": [
    {
     "data": {
      "text/html": [
       "<div>\n",
       "<style scoped>\n",
       "    .dataframe tbody tr th:only-of-type {\n",
       "        vertical-align: middle;\n",
       "    }\n",
       "\n",
       "    .dataframe tbody tr th {\n",
       "        vertical-align: top;\n",
       "    }\n",
       "\n",
       "    .dataframe thead th {\n",
       "        text-align: right;\n",
       "    }\n",
       "</style>\n",
       "<table border=\"1\" class=\"dataframe\">\n",
       "  <thead>\n",
       "    <tr style=\"text-align: right;\">\n",
       "      <th></th>\n",
       "      <th>0</th>\n",
       "    </tr>\n",
       "  </thead>\n",
       "  <tbody>\n",
       "    <tr>\n",
       "      <th>IROSROA</th>\n",
       "      <td>669.850708</td>\n",
       "    </tr>\n",
       "    <tr>\n",
       "      <th>LBQCYGN</th>\n",
       "      <td>764.378052</td>\n",
       "    </tr>\n",
       "    <tr>\n",
       "      <th>GZMNIJI</th>\n",
       "      <td>623.249390</td>\n",
       "    </tr>\n",
       "    <tr>\n",
       "      <th>PREGXXP</th>\n",
       "      <td>747.742371</td>\n",
       "    </tr>\n",
       "    <tr>\n",
       "      <th>TJXKVVW</th>\n",
       "      <td>556.533752</td>\n",
       "    </tr>\n",
       "  </tbody>\n",
       "</table>\n",
       "</div>"
      ],
      "text/plain": [
       "                  0\n",
       "IROSROA  669.850708\n",
       "LBQCYGN  764.378052\n",
       "GZMNIJI  623.249390\n",
       "PREGXXP  747.742371\n",
       "TJXKVVW  556.533752"
      ]
     },
     "execution_count": 289,
     "metadata": {},
     "output_type": "execute_result"
    }
   ],
   "source": [
    "volume_predict = pd.DataFrame.from_dict(predict_vol_dict, orient='index')\n",
    "volume_predict.head()"
   ]
  },
  {
   "cell_type": "code",
   "execution_count": 290,
   "id": "801e87b7",
   "metadata": {},
   "outputs": [],
   "source": [
    "# volume_predict.to_csv('volume_predict.csv') "
   ]
  },
  {
   "cell_type": "code",
   "execution_count": 291,
   "id": "405bcd39",
   "metadata": {},
   "outputs": [
    {
     "data": {
      "text/html": [
       "<div>\n",
       "<style scoped>\n",
       "    .dataframe tbody tr th:only-of-type {\n",
       "        vertical-align: middle;\n",
       "    }\n",
       "\n",
       "    .dataframe tbody tr th {\n",
       "        vertical-align: top;\n",
       "    }\n",
       "\n",
       "    .dataframe thead th {\n",
       "        text-align: right;\n",
       "    }\n",
       "</style>\n",
       "<table border=\"1\" class=\"dataframe\">\n",
       "  <thead>\n",
       "    <tr style=\"text-align: right;\">\n",
       "      <th></th>\n",
       "      <th>Unnamed: 0</th>\n",
       "      <th>Price in USD</th>\n",
       "      <th>Accuracy</th>\n",
       "      <th>Country</th>\n",
       "    </tr>\n",
       "  </thead>\n",
       "  <tbody>\n",
       "    <tr>\n",
       "      <th>0</th>\n",
       "      <td>IROSROA</td>\n",
       "      <td>13.228242</td>\n",
       "      <td>0.764749</td>\n",
       "      <td>JP</td>\n",
       "    </tr>\n",
       "    <tr>\n",
       "      <th>1</th>\n",
       "      <td>LBQCYGN</td>\n",
       "      <td>14.302553</td>\n",
       "      <td>0.916715</td>\n",
       "      <td>US</td>\n",
       "    </tr>\n",
       "    <tr>\n",
       "      <th>2</th>\n",
       "      <td>GZMNIJI</td>\n",
       "      <td>15.845817</td>\n",
       "      <td>0.906883</td>\n",
       "      <td>US</td>\n",
       "    </tr>\n",
       "    <tr>\n",
       "      <th>3</th>\n",
       "      <td>PREGXXP</td>\n",
       "      <td>8.891578</td>\n",
       "      <td>0.903034</td>\n",
       "      <td>JP</td>\n",
       "    </tr>\n",
       "    <tr>\n",
       "      <th>4</th>\n",
       "      <td>TJXKVVW</td>\n",
       "      <td>17.507168</td>\n",
       "      <td>0.840952</td>\n",
       "      <td>UK</td>\n",
       "    </tr>\n",
       "  </tbody>\n",
       "</table>\n",
       "</div>"
      ],
      "text/plain": [
       "  Unnamed: 0  Price in USD  Accuracy Country\n",
       "0    IROSROA     13.228242  0.764749      JP\n",
       "1    LBQCYGN     14.302553  0.916715      US\n",
       "2    GZMNIJI     15.845817  0.906883      US\n",
       "3    PREGXXP      8.891578  0.903034      JP\n",
       "4    TJXKVVW     17.507168  0.840952      UK"
      ]
     },
     "execution_count": 291,
     "metadata": {},
     "output_type": "execute_result"
    }
   ],
   "source": [
    "px_predict = pd.read_csv('Price USD predict.csv')\n",
    "px_predict.head()"
   ]
  },
  {
   "cell_type": "code",
   "execution_count": 292,
   "id": "2331ab07",
   "metadata": {},
   "outputs": [
    {
     "data": {
      "text/html": [
       "<div>\n",
       "<style scoped>\n",
       "    .dataframe tbody tr th:only-of-type {\n",
       "        vertical-align: middle;\n",
       "    }\n",
       "\n",
       "    .dataframe tbody tr th {\n",
       "        vertical-align: top;\n",
       "    }\n",
       "\n",
       "    .dataframe thead th {\n",
       "        text-align: right;\n",
       "    }\n",
       "</style>\n",
       "<table border=\"1\" class=\"dataframe\">\n",
       "  <thead>\n",
       "    <tr style=\"text-align: right;\">\n",
       "      <th></th>\n",
       "      <th>Price in USD</th>\n",
       "      <th>Accuracy</th>\n",
       "      <th>Country</th>\n",
       "      <th>Volume</th>\n",
       "      <th>Value traded</th>\n",
       "    </tr>\n",
       "  </thead>\n",
       "  <tbody>\n",
       "    <tr>\n",
       "      <th>IROSROA</th>\n",
       "      <td>13.228242</td>\n",
       "      <td>0.764749</td>\n",
       "      <td>JP</td>\n",
       "      <td>669.850708</td>\n",
       "      <td>8860.947269</td>\n",
       "    </tr>\n",
       "    <tr>\n",
       "      <th>LBQCYGN</th>\n",
       "      <td>14.302553</td>\n",
       "      <td>0.916715</td>\n",
       "      <td>US</td>\n",
       "      <td>764.378052</td>\n",
       "      <td>10932.557597</td>\n",
       "    </tr>\n",
       "    <tr>\n",
       "      <th>GZMNIJI</th>\n",
       "      <td>15.845817</td>\n",
       "      <td>0.906883</td>\n",
       "      <td>US</td>\n",
       "      <td>623.249390</td>\n",
       "      <td>9875.895774</td>\n",
       "    </tr>\n",
       "    <tr>\n",
       "      <th>PREGXXP</th>\n",
       "      <td>8.891578</td>\n",
       "      <td>0.903034</td>\n",
       "      <td>JP</td>\n",
       "      <td>747.742371</td>\n",
       "      <td>6648.609612</td>\n",
       "    </tr>\n",
       "    <tr>\n",
       "      <th>TJXKVVW</th>\n",
       "      <td>17.507168</td>\n",
       "      <td>0.840952</td>\n",
       "      <td>UK</td>\n",
       "      <td>556.533752</td>\n",
       "      <td>9743.329902</td>\n",
       "    </tr>\n",
       "    <tr>\n",
       "      <th>...</th>\n",
       "      <td>...</td>\n",
       "      <td>...</td>\n",
       "      <td>...</td>\n",
       "      <td>...</td>\n",
       "      <td>...</td>\n",
       "    </tr>\n",
       "    <tr>\n",
       "      <th>FAMUDFB</th>\n",
       "      <td>17.656025</td>\n",
       "      <td>0.934795</td>\n",
       "      <td>JP</td>\n",
       "      <td>478.930298</td>\n",
       "      <td>8456.005312</td>\n",
       "    </tr>\n",
       "    <tr>\n",
       "      <th>NJCOVIW</th>\n",
       "      <td>21.184797</td>\n",
       "      <td>0.922241</td>\n",
       "      <td>UK</td>\n",
       "      <td>447.364655</td>\n",
       "      <td>9477.329391</td>\n",
       "    </tr>\n",
       "    <tr>\n",
       "      <th>FHEYTHO</th>\n",
       "      <td>18.789883</td>\n",
       "      <td>0.954563</td>\n",
       "      <td>US</td>\n",
       "      <td>526.363953</td>\n",
       "      <td>9890.317085</td>\n",
       "    </tr>\n",
       "    <tr>\n",
       "      <th>SUUWFLD</th>\n",
       "      <td>10.231596</td>\n",
       "      <td>0.827030</td>\n",
       "      <td>UK</td>\n",
       "      <td>443.876038</td>\n",
       "      <td>4541.560291</td>\n",
       "    </tr>\n",
       "    <tr>\n",
       "      <th>NAFWGRY</th>\n",
       "      <td>3.525381</td>\n",
       "      <td>0.914877</td>\n",
       "      <td>UK</td>\n",
       "      <td>452.795532</td>\n",
       "      <td>1596.276902</td>\n",
       "    </tr>\n",
       "  </tbody>\n",
       "</table>\n",
       "<p>100 rows × 5 columns</p>\n",
       "</div>"
      ],
      "text/plain": [
       "         Price in USD  Accuracy Country      Volume  Value traded\n",
       "IROSROA     13.228242  0.764749      JP  669.850708   8860.947269\n",
       "LBQCYGN     14.302553  0.916715      US  764.378052  10932.557597\n",
       "GZMNIJI     15.845817  0.906883      US  623.249390   9875.895774\n",
       "PREGXXP      8.891578  0.903034      JP  747.742371   6648.609612\n",
       "TJXKVVW     17.507168  0.840952      UK  556.533752   9743.329902\n",
       "...               ...       ...     ...         ...           ...\n",
       "FAMUDFB     17.656025  0.934795      JP  478.930298   8456.005312\n",
       "NJCOVIW     21.184797  0.922241      UK  447.364655   9477.329391\n",
       "FHEYTHO     18.789883  0.954563      US  526.363953   9890.317085\n",
       "SUUWFLD     10.231596  0.827030      UK  443.876038   4541.560291\n",
       "NAFWGRY      3.525381  0.914877      UK  452.795532   1596.276902\n",
       "\n",
       "[100 rows x 5 columns]"
      ]
     },
     "execution_count": 292,
     "metadata": {},
     "output_type": "execute_result"
    }
   ],
   "source": [
    "px_predict = px_predict.set_index(px_predict.columns[0])\n",
    "volume_predict = volume_predict.rename(columns = {0:'Volume'})\n",
    "value_predict = pd.concat([px_predict, volume_predict], axis = 1)\n",
    "value_predict['Value traded'] = value_predict['Price in USD'] * value_predict['Volume']\n",
    "value_predict"
   ]
  },
  {
   "cell_type": "code",
   "execution_count": null,
   "id": "956fffee",
   "metadata": {},
   "outputs": [],
   "source": []
  },
  {
   "cell_type": "markdown",
   "id": "d00b1aa3",
   "metadata": {},
   "source": [
    "## REFERENCES"
   ]
  },
  {
   "cell_type": "markdown",
   "id": "03ecc0a0",
   "metadata": {},
   "source": [
    "[1] Khalid Bin Saboor, Qurat Ul Ain Saboor, Liyan Han, Abdul Saboor Zahid, Predicting the Stock Market using Machine Learning: Long short-term Memory. *Electronic Research Journal of Engineering, Computer and Applied Sciences* Volume 2 (2020). Available from: https://papers.ssrn.com/sol3/papers.cfm?abstract_id=3810128 <br>\n",
    "\n",
    "[2] Ruochen Xiao, Yingying Feng, Lei Yan, Yihan Ma, Predict Stock Prices with ARIMA and LSTM. *arXiv*:2209.02407v1 [q-fin.ST] 31 Aug 2022. Available from: https://arxiv.org/pdf/2209.02407.pdf <br>\n",
    "\n",
    "[3] Shilpa Gite, Hrituja Khatavkar, Ketan Kotecha, Shilpi Srivastava, Priyam Maheshwari Neerav Pandey, Explainable stock prices prediction from financial news articles using sentiment analysis. *PeerJ Computer Science* Published 28 January 2021. Available from: https://www.semanticscholar.org/paper/Explainable-stock-prices-prediction-from-financial-Gite-Khatavkar/25a07bf9755fbfc73b11668517b8a6f54c362e4c <br>\n",
    "\n",
    "[4] Halder Shayan, FinBERT-LSTM: Deep Learning based on stock price prediction using News Sentiment Analysis. *arXiv*:2211.07392v1 [q-fin.ST] 11 Nov 2022. Avaialble from: https://arxiv.org/pdf/2211.07392.pdf <br>\n",
    "\n",
    "[5] S. Mohan, S. Mullapudi, S. Sammeta, P. Vijayvergia and D.C. Anastasiu. \"Stock price prediction using news sentiment analysis\". *2019 IEEE Fifth International Conference on Big Data Computing Service and Applications*, IEEE, 2019, pp.205-208 <br>\n",
    "\n",
    "[6] Fauzia Mubarik, Attiya Yasmin Javid, Relationship between Stock Return, Trading Volume and Volatility: Evidence from Pakistani Stock Market (July 31, 2009). *Asia Pacific Journal of Finance and Banking Research*, Vol. 3, No. 3, July 2009. Available at SSRN: https://ssrn.com/abstract=1536053\n",
    "\n",
    "[7] Daniel Libman, Simi Haber, Mary Schaps, Volume Prediction With Neural Networks. *Frontier in Artificial Intelligence*, 2:21, 09 October 2019. Available from: https://www.frontiersin.org/articles/10.3389/frai.2019.00021/full"
   ]
  },
  {
   "cell_type": "code",
   "execution_count": null,
   "id": "4395ca28",
   "metadata": {},
   "outputs": [],
   "source": []
  }
 ],
 "metadata": {
  "kernelspec": {
   "display_name": "Python 3 (ipykernel)",
   "language": "python",
   "name": "python3"
  },
  "language_info": {
   "codemirror_mode": {
    "name": "ipython",
    "version": 3
   },
   "file_extension": ".py",
   "mimetype": "text/x-python",
   "name": "python",
   "nbconvert_exporter": "python",
   "pygments_lexer": "ipython3",
   "version": "3.9.7"
  }
 },
 "nbformat": 4,
 "nbformat_minor": 5
}
