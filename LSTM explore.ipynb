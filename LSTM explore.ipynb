{
 "cells": [
  {
   "cell_type": "markdown",
   "id": "7b4816fa",
   "metadata": {},
   "source": [
    "## One-day-ahead prediction on stock value in USD\n",
    "$$ Traded Value[m USD] = Traded Volume [m shares] \\times Closing Price [USD]$$\n",
    "<br>\n",
    "<br>\n",
    "Given the limited time to spend on this project, I would decompose the question into: <br> \n",
    "1) predicting trading volume, and\n",
    "<br>\n",
    "2) predicting stock closing price\n",
    "<br>\n",
    "although there are an abundance of literatures suggesting relationships between price/return and trading volume.\n",
    "<br>\n"
   ]
  },
  {
   "cell_type": "markdown",
   "id": "ab59552f",
   "metadata": {},
   "source": [
    "## I. Predicting Stock closing price\n",
    "###  1. Load the data"
   ]
  },
  {
   "cell_type": "code",
   "execution_count": 1,
   "id": "65df3527",
   "metadata": {},
   "outputs": [
    {
     "data": {
      "text/html": [
       "<div>\n",
       "<style scoped>\n",
       "    .dataframe tbody tr th:only-of-type {\n",
       "        vertical-align: middle;\n",
       "    }\n",
       "\n",
       "    .dataframe tbody tr th {\n",
       "        vertical-align: top;\n",
       "    }\n",
       "\n",
       "    .dataframe thead th {\n",
       "        text-align: right;\n",
       "    }\n",
       "</style>\n",
       "<table border=\"1\" class=\"dataframe\">\n",
       "  <thead>\n",
       "    <tr style=\"text-align: right;\">\n",
       "      <th></th>\n",
       "      <th>Date</th>\n",
       "      <th>ID</th>\n",
       "      <th>Volume</th>\n",
       "      <th>Spread</th>\n",
       "      <th>Volatility</th>\n",
       "      <th>Price</th>\n",
       "      <th>Sentiment</th>\n",
       "    </tr>\n",
       "  </thead>\n",
       "  <tbody>\n",
       "    <tr>\n",
       "      <th>0</th>\n",
       "      <td>2012-02-01</td>\n",
       "      <td>IROSROA</td>\n",
       "      <td>518.195133</td>\n",
       "      <td>0.001272</td>\n",
       "      <td>0.118802</td>\n",
       "      <td>1125.148876</td>\n",
       "      <td>-1.734483</td>\n",
       "    </tr>\n",
       "    <tr>\n",
       "      <th>1</th>\n",
       "      <td>2012-02-01</td>\n",
       "      <td>LBQCYGN</td>\n",
       "      <td>782.416185</td>\n",
       "      <td>0.001976</td>\n",
       "      <td>0.141883</td>\n",
       "      <td>14.873362</td>\n",
       "      <td>0.243940</td>\n",
       "    </tr>\n",
       "    <tr>\n",
       "      <th>2</th>\n",
       "      <td>2012-02-01</td>\n",
       "      <td>GZMNIJI</td>\n",
       "      <td>792.203352</td>\n",
       "      <td>0.002029</td>\n",
       "      <td>0.144689</td>\n",
       "      <td>15.577075</td>\n",
       "      <td>0.111437</td>\n",
       "    </tr>\n",
       "    <tr>\n",
       "      <th>3</th>\n",
       "      <td>2012-02-01</td>\n",
       "      <td>PREGXXP</td>\n",
       "      <td>794.471386</td>\n",
       "      <td>0.001169</td>\n",
       "      <td>0.111836</td>\n",
       "      <td>724.542317</td>\n",
       "      <td>-0.080213</td>\n",
       "    </tr>\n",
       "    <tr>\n",
       "      <th>4</th>\n",
       "      <td>2012-02-01</td>\n",
       "      <td>TJXKVVW</td>\n",
       "      <td>660.684739</td>\n",
       "      <td>0.002092</td>\n",
       "      <td>0.152536</td>\n",
       "      <td>12.515318</td>\n",
       "      <td>0.621398</td>\n",
       "    </tr>\n",
       "  </tbody>\n",
       "</table>\n",
       "</div>"
      ],
      "text/plain": [
       "         Date       ID      Volume    Spread  Volatility        Price  \\\n",
       "0  2012-02-01  IROSROA  518.195133  0.001272    0.118802  1125.148876   \n",
       "1  2012-02-01  LBQCYGN  782.416185  0.001976    0.141883    14.873362   \n",
       "2  2012-02-01  GZMNIJI  792.203352  0.002029    0.144689    15.577075   \n",
       "3  2012-02-01  PREGXXP  794.471386  0.001169    0.111836   724.542317   \n",
       "4  2012-02-01  TJXKVVW  660.684739  0.002092    0.152536    12.515318   \n",
       "\n",
       "   Sentiment  \n",
       "0  -1.734483  \n",
       "1   0.243940  \n",
       "2   0.111437  \n",
       "3  -0.080213  \n",
       "4   0.621398  "
      ]
     },
     "execution_count": 1,
     "metadata": {},
     "output_type": "execute_result"
    }
   ],
   "source": [
    "import pandas as pd\n",
    "import numpy as np\n",
    "\n",
    "from datetime import datetime\n",
    "stocks = pd.read_csv('stock.csv')\n",
    "stocks['Date'] = pd.to_datetime(stocks['Date'])\n",
    "stocks['Date'] = stocks['Date'].apply(lambda x: x.strftime('%Y-%m-%d'))\n",
    "stocks.head()"
   ]
  },
  {
   "cell_type": "code",
   "execution_count": 2,
   "id": "751564ab",
   "metadata": {},
   "outputs": [
    {
     "data": {
      "text/html": [
       "<div>\n",
       "<style scoped>\n",
       "    .dataframe tbody tr th:only-of-type {\n",
       "        vertical-align: middle;\n",
       "    }\n",
       "\n",
       "    .dataframe tbody tr th {\n",
       "        vertical-align: top;\n",
       "    }\n",
       "\n",
       "    .dataframe thead th {\n",
       "        text-align: right;\n",
       "    }\n",
       "</style>\n",
       "<table border=\"1\" class=\"dataframe\">\n",
       "  <thead>\n",
       "    <tr style=\"text-align: right;\">\n",
       "      <th></th>\n",
       "      <th>Date</th>\n",
       "      <th>US/UK</th>\n",
       "      <th>JP/US</th>\n",
       "    </tr>\n",
       "  </thead>\n",
       "  <tbody>\n",
       "    <tr>\n",
       "      <th>0</th>\n",
       "      <td>2012-01-02</td>\n",
       "      <td>1.5537</td>\n",
       "      <td>76.98</td>\n",
       "    </tr>\n",
       "    <tr>\n",
       "      <th>1</th>\n",
       "      <td>2012-01-03</td>\n",
       "      <td>1.5655</td>\n",
       "      <td>76.67</td>\n",
       "    </tr>\n",
       "    <tr>\n",
       "      <th>2</th>\n",
       "      <td>2012-01-04</td>\n",
       "      <td>1.5638</td>\n",
       "      <td>76.68</td>\n",
       "    </tr>\n",
       "    <tr>\n",
       "      <th>3</th>\n",
       "      <td>2012-01-05</td>\n",
       "      <td>1.5480</td>\n",
       "      <td>77.18</td>\n",
       "    </tr>\n",
       "    <tr>\n",
       "      <th>4</th>\n",
       "      <td>2012-01-06</td>\n",
       "      <td>1.5431</td>\n",
       "      <td>77.06</td>\n",
       "    </tr>\n",
       "  </tbody>\n",
       "</table>\n",
       "</div>"
      ],
      "text/plain": [
       "         Date   US/UK  JP/US\n",
       "0  2012-01-02  1.5537  76.98\n",
       "1  2012-01-03  1.5655  76.67\n",
       "2  2012-01-04  1.5638  76.68\n",
       "3  2012-01-05  1.5480  77.18\n",
       "4  2012-01-06  1.5431  77.06"
      ]
     },
     "execution_count": 2,
     "metadata": {},
     "output_type": "execute_result"
    }
   ],
   "source": [
    "fx = pd.read_csv('fx.csv')\n",
    "fx.head()"
   ]
  },
  {
   "cell_type": "code",
   "execution_count": 3,
   "id": "116c45d1",
   "metadata": {},
   "outputs": [
    {
     "data": {
      "text/html": [
       "<div>\n",
       "<style scoped>\n",
       "    .dataframe tbody tr th:only-of-type {\n",
       "        vertical-align: middle;\n",
       "    }\n",
       "\n",
       "    .dataframe tbody tr th {\n",
       "        vertical-align: top;\n",
       "    }\n",
       "\n",
       "    .dataframe thead th {\n",
       "        text-align: right;\n",
       "    }\n",
       "</style>\n",
       "<table border=\"1\" class=\"dataframe\">\n",
       "  <thead>\n",
       "    <tr style=\"text-align: right;\">\n",
       "      <th></th>\n",
       "      <th>ID</th>\n",
       "      <th>Country</th>\n",
       "    </tr>\n",
       "  </thead>\n",
       "  <tbody>\n",
       "    <tr>\n",
       "      <th>0</th>\n",
       "      <td>IROSROA</td>\n",
       "      <td>JP</td>\n",
       "    </tr>\n",
       "    <tr>\n",
       "      <th>1</th>\n",
       "      <td>LBQCYGN</td>\n",
       "      <td>US</td>\n",
       "    </tr>\n",
       "    <tr>\n",
       "      <th>2</th>\n",
       "      <td>GZMNIJI</td>\n",
       "      <td>US</td>\n",
       "    </tr>\n",
       "    <tr>\n",
       "      <th>3</th>\n",
       "      <td>PREGXXP</td>\n",
       "      <td>JP</td>\n",
       "    </tr>\n",
       "    <tr>\n",
       "      <th>4</th>\n",
       "      <td>TJXKVVW</td>\n",
       "      <td>UK</td>\n",
       "    </tr>\n",
       "  </tbody>\n",
       "</table>\n",
       "</div>"
      ],
      "text/plain": [
       "        ID Country\n",
       "0  IROSROA      JP\n",
       "1  LBQCYGN      US\n",
       "2  GZMNIJI      US\n",
       "3  PREGXXP      JP\n",
       "4  TJXKVVW      UK"
      ]
     },
     "execution_count": 3,
     "metadata": {},
     "output_type": "execute_result"
    }
   ],
   "source": [
    "classification = pd.read_csv('classification.csv')\n",
    "classification.head()"
   ]
  },
  {
   "cell_type": "code",
   "execution_count": 4,
   "id": "628697ae",
   "metadata": {},
   "outputs": [],
   "source": [
    "stocks = stocks.merge(classification, how = 'left')\n",
    "stocks = stocks.merge(fx, how = 'left', on = 'Date')"
   ]
  },
  {
   "cell_type": "markdown",
   "id": "3551170c",
   "metadata": {},
   "source": [
    "#### on FX rate\n",
    "I avoided decomposing **closing price in USD** into **closing price in local currency** and **FX rate against USD** as this would be another element to make predictions on. Although there are studies done on FX rate forecast based on historical FX rates alone using statistical and ML models, since I am not provided with macro economics data and given the time limit, I decided to convert all prices into USD using the historical FX rates provided and make the stock price prediction in USD directly. "
   ]
  },
  {
   "cell_type": "code",
   "execution_count": 5,
   "id": "49a166f8",
   "metadata": {},
   "outputs": [
    {
     "data": {
      "text/html": [
       "<div>\n",
       "<style scoped>\n",
       "    .dataframe tbody tr th:only-of-type {\n",
       "        vertical-align: middle;\n",
       "    }\n",
       "\n",
       "    .dataframe tbody tr th {\n",
       "        vertical-align: top;\n",
       "    }\n",
       "\n",
       "    .dataframe thead th {\n",
       "        text-align: right;\n",
       "    }\n",
       "</style>\n",
       "<table border=\"1\" class=\"dataframe\">\n",
       "  <thead>\n",
       "    <tr style=\"text-align: right;\">\n",
       "      <th></th>\n",
       "      <th>Date</th>\n",
       "      <th>ID</th>\n",
       "      <th>Volume</th>\n",
       "      <th>Spread</th>\n",
       "      <th>Volatility</th>\n",
       "      <th>Price</th>\n",
       "      <th>Sentiment</th>\n",
       "      <th>Country</th>\n",
       "      <th>US/UK</th>\n",
       "      <th>JP/US</th>\n",
       "      <th>Price USD</th>\n",
       "    </tr>\n",
       "  </thead>\n",
       "  <tbody>\n",
       "    <tr>\n",
       "      <th>0</th>\n",
       "      <td>2012-02-01</td>\n",
       "      <td>IROSROA</td>\n",
       "      <td>518.195133</td>\n",
       "      <td>0.001272</td>\n",
       "      <td>0.118802</td>\n",
       "      <td>1125.148876</td>\n",
       "      <td>-1.734483</td>\n",
       "      <td>JP</td>\n",
       "      <td>1.5849</td>\n",
       "      <td>76.11</td>\n",
       "      <td>14.783194</td>\n",
       "    </tr>\n",
       "    <tr>\n",
       "      <th>1</th>\n",
       "      <td>2012-02-01</td>\n",
       "      <td>LBQCYGN</td>\n",
       "      <td>782.416185</td>\n",
       "      <td>0.001976</td>\n",
       "      <td>0.141883</td>\n",
       "      <td>14.873362</td>\n",
       "      <td>0.243940</td>\n",
       "      <td>US</td>\n",
       "      <td>1.5849</td>\n",
       "      <td>76.11</td>\n",
       "      <td>14.873362</td>\n",
       "    </tr>\n",
       "    <tr>\n",
       "      <th>2</th>\n",
       "      <td>2012-02-01</td>\n",
       "      <td>GZMNIJI</td>\n",
       "      <td>792.203352</td>\n",
       "      <td>0.002029</td>\n",
       "      <td>0.144689</td>\n",
       "      <td>15.577075</td>\n",
       "      <td>0.111437</td>\n",
       "      <td>US</td>\n",
       "      <td>1.5849</td>\n",
       "      <td>76.11</td>\n",
       "      <td>15.577075</td>\n",
       "    </tr>\n",
       "    <tr>\n",
       "      <th>3</th>\n",
       "      <td>2012-02-01</td>\n",
       "      <td>PREGXXP</td>\n",
       "      <td>794.471386</td>\n",
       "      <td>0.001169</td>\n",
       "      <td>0.111836</td>\n",
       "      <td>724.542317</td>\n",
       "      <td>-0.080213</td>\n",
       "      <td>JP</td>\n",
       "      <td>1.5849</td>\n",
       "      <td>76.11</td>\n",
       "      <td>9.519673</td>\n",
       "    </tr>\n",
       "    <tr>\n",
       "      <th>4</th>\n",
       "      <td>2012-02-01</td>\n",
       "      <td>TJXKVVW</td>\n",
       "      <td>660.684739</td>\n",
       "      <td>0.002092</td>\n",
       "      <td>0.152536</td>\n",
       "      <td>12.515318</td>\n",
       "      <td>0.621398</td>\n",
       "      <td>UK</td>\n",
       "      <td>1.5849</td>\n",
       "      <td>76.11</td>\n",
       "      <td>19.835527</td>\n",
       "    </tr>\n",
       "  </tbody>\n",
       "</table>\n",
       "</div>"
      ],
      "text/plain": [
       "         Date       ID      Volume    Spread  Volatility        Price  \\\n",
       "0  2012-02-01  IROSROA  518.195133  0.001272    0.118802  1125.148876   \n",
       "1  2012-02-01  LBQCYGN  782.416185  0.001976    0.141883    14.873362   \n",
       "2  2012-02-01  GZMNIJI  792.203352  0.002029    0.144689    15.577075   \n",
       "3  2012-02-01  PREGXXP  794.471386  0.001169    0.111836   724.542317   \n",
       "4  2012-02-01  TJXKVVW  660.684739  0.002092    0.152536    12.515318   \n",
       "\n",
       "   Sentiment Country   US/UK  JP/US  Price USD  \n",
       "0  -1.734483      JP  1.5849  76.11  14.783194  \n",
       "1   0.243940      US  1.5849  76.11  14.873362  \n",
       "2   0.111437      US  1.5849  76.11  15.577075  \n",
       "3  -0.080213      JP  1.5849  76.11   9.519673  \n",
       "4   0.621398      UK  1.5849  76.11  19.835527  "
      ]
     },
     "execution_count": 5,
     "metadata": {},
     "output_type": "execute_result"
    }
   ],
   "source": [
    "stocks['Price USD'] = np.where(stocks['Country'] == 'JP', stocks['Price']/stocks['JP/US'], \n",
    "                              np.where(stocks['Country'] == 'UK', stocks['Price'] * stocks['US/UK'], stocks['Price']))\n",
    "stocks.head()"
   ]
  },
  {
   "cell_type": "markdown",
   "id": "7488a825",
   "metadata": {},
   "source": [
    "###  2. LSTM models & Model training\n",
    "#### 2.1 Standard LSTM\n",
    "<br>\n",
    "I originally considered using Auto-Regressive Integrated Moving Average (ARIMA) given it's (probably) a non-stationary time series we are working with. However, multiple publications suggested that LSTM provides superior performance to ARIMA in stock market predictions [1][2].\n",
    "<br>\n",
    "I explore the results with randomly one US stock and one non-US stock."
   ]
  },
  {
   "cell_type": "code",
   "execution_count": 57,
   "id": "b245f51f",
   "metadata": {},
   "outputs": [
    {
     "data": {
      "text/html": [
       "<div>\n",
       "<style scoped>\n",
       "    .dataframe tbody tr th:only-of-type {\n",
       "        vertical-align: middle;\n",
       "    }\n",
       "\n",
       "    .dataframe tbody tr th {\n",
       "        vertical-align: top;\n",
       "    }\n",
       "\n",
       "    .dataframe thead th {\n",
       "        text-align: right;\n",
       "    }\n",
       "</style>\n",
       "<table border=\"1\" class=\"dataframe\">\n",
       "  <thead>\n",
       "    <tr style=\"text-align: right;\">\n",
       "      <th></th>\n",
       "      <th>Price USD</th>\n",
       "      <th>Sentiment</th>\n",
       "    </tr>\n",
       "    <tr>\n",
       "      <th>Date</th>\n",
       "      <th></th>\n",
       "      <th></th>\n",
       "    </tr>\n",
       "  </thead>\n",
       "  <tbody>\n",
       "    <tr>\n",
       "      <th>2012-02-01</th>\n",
       "      <td>14.873362</td>\n",
       "      <td>0.243940</td>\n",
       "    </tr>\n",
       "    <tr>\n",
       "      <th>2012-03-01</th>\n",
       "      <td>15.163614</td>\n",
       "      <td>-0.130350</td>\n",
       "    </tr>\n",
       "    <tr>\n",
       "      <th>2012-04-01</th>\n",
       "      <td>15.098638</td>\n",
       "      <td>0.178536</td>\n",
       "    </tr>\n",
       "    <tr>\n",
       "      <th>2012-05-01</th>\n",
       "      <td>14.912976</td>\n",
       "      <td>0.543603</td>\n",
       "    </tr>\n",
       "    <tr>\n",
       "      <th>2012-06-01</th>\n",
       "      <td>14.962083</td>\n",
       "      <td>0.447191</td>\n",
       "    </tr>\n",
       "  </tbody>\n",
       "</table>\n",
       "</div>"
      ],
      "text/plain": [
       "            Price USD  Sentiment\n",
       "Date                            \n",
       "2012-02-01  14.873362   0.243940\n",
       "2012-03-01  15.163614  -0.130350\n",
       "2012-04-01  15.098638   0.178536\n",
       "2012-05-01  14.912976   0.543603\n",
       "2012-06-01  14.962083   0.447191"
      ]
     },
     "execution_count": 57,
     "metadata": {},
     "output_type": "execute_result"
    }
   ],
   "source": [
    "ticker = 'LBQCYGN' # I start by taking the first US stock as an example\n",
    "\n",
    "df = stocks[stocks['ID'] == ticker][['Date','Price USD','Sentiment']].set_index('Date')\n",
    "df.fillna(method = 'ffill', inplace = True) #in case there's no price, fill with previous day close\n",
    "df.head()"
   ]
  },
  {
   "cell_type": "code",
   "execution_count": 58,
   "id": "a85090f6",
   "metadata": {},
   "outputs": [],
   "source": [
    "from sklearn.preprocessing import MinMaxScaler\n",
    "\n",
    "scaler = MinMaxScaler(feature_range=(0,1)) \n",
    "px_norm = scaler.fit_transform(df['Price USD'].values.reshape(-1,1))"
   ]
  },
  {
   "cell_type": "code",
   "execution_count": 59,
   "id": "fa453e3d",
   "metadata": {},
   "outputs": [],
   "source": [
    "def df_to_XY(px_norm, window_size=5):#test 5, 10, 15, 20, 30\n",
    "    X = []\n",
    "    Y = []\n",
    "    for i in range(len(px_norm)-window_size):\n",
    "        X.append([pair for pair in px_norm[i:i+window_size]])\n",
    "        Y.append(px_norm[i+window_size, 0])\n",
    "    return np.array(X), np.array(Y)"
   ]
  },
  {
   "cell_type": "code",
   "execution_count": 87,
   "id": "b1bb6343",
   "metadata": {},
   "outputs": [
    {
     "data": {
      "text/plain": [
       "((1816, 10, 1), (1816,))"
      ]
     },
     "execution_count": 87,
     "metadata": {},
     "output_type": "execute_result"
    }
   ],
   "source": [
    "window_size = 10\n",
    "X0, Y0 = df_to_XY(px_norm, WINDOW_SIZE)\n",
    "X0.shape, Y0.shape"
   ]
  },
  {
   "cell_type": "code",
   "execution_count": 66,
   "id": "fa5fc93a",
   "metadata": {},
   "outputs": [],
   "source": [
    "def split_data(X, Y, train_split = 0.8): #default train/test split is 80/20\n",
    "\n",
    "    split_index = int(Y.shape[0] * train_split)\n",
    "    \n",
    "    X_train, Y_train = X[:split_index], Y[:split_index]\n",
    "    X_test, Y_test = X[split_index:], Y[split_index:]\n",
    "    \n",
    "    return X_train, Y_train, X_test, Y_test, split_index"
   ]
  },
  {
   "cell_type": "code",
   "execution_count": 67,
   "id": "7b2213df",
   "metadata": {},
   "outputs": [
    {
     "data": {
      "text/plain": [
       "((1452, 10, 1), (1452,), (364, 10, 1), (364,))"
      ]
     },
     "execution_count": 67,
     "metadata": {},
     "output_type": "execute_result"
    }
   ],
   "source": [
    "X0_train, Y0_train, X0_test, Y0_test, split_index = split_data(X0, Y0)\n",
    "X0_train.shape, Y0_train.shape, X0_test.shape, Y0_test.shape"
   ]
  },
  {
   "cell_type": "code",
   "execution_count": 63,
   "id": "5646e2e0",
   "metadata": {},
   "outputs": [],
   "source": [
    "from tensorflow.keras.models import Sequential\n",
    "from tensorflow.keras.layers import *\n",
    "from tensorflow.keras.losses import MeanSquaredError\n",
    "from tensorflow.keras.metrics import RootMeanSquaredError\n",
    "from tensorflow.keras.optimizers import Adam"
   ]
  },
  {
   "cell_type": "markdown",
   "id": "bd72afac",
   "metadata": {},
   "source": [
    "3 parameters need to be decided:\n",
    "1) # of layers <br>\n",
    "2) # unit <br>\n",
    "3) dropout %\n",
    "\n",
    "<br>\n",
    "The optimal parameters should be obtained by comparing the deviation of the predicted results. \n",
    "In this model, I will set 1 input layer,  3 LSTM layers, each followed by a dropout layer, and a final dense layer as ouput.\n",
    "<br>\n",
    "I will set the unit number for each LSTM layer to be 100 and the dropout rate to be 0.1."
   ]
  },
  {
   "cell_type": "code",
   "execution_count": 64,
   "id": "72e8778f",
   "metadata": {},
   "outputs": [
    {
     "name": "stdout",
     "output_type": "stream",
     "text": [
      "Epoch 1/10\n",
      "46/46 [==============================] - 11s 128ms/step - loss: 0.0401\n",
      "Epoch 2/10\n",
      "46/46 [==============================] - 6s 127ms/step - loss: 0.0069\n",
      "Epoch 3/10\n",
      "46/46 [==============================] - 6s 125ms/step - loss: 0.0066\n",
      "Epoch 4/10\n",
      "46/46 [==============================] - 6s 122ms/step - loss: 0.0065\n",
      "Epoch 5/10\n",
      "46/46 [==============================] - 6s 124ms/step - loss: 0.0063\n",
      "Epoch 6/10\n",
      "46/46 [==============================] - 6s 125ms/step - loss: 0.0064\n",
      "Epoch 7/10\n",
      "46/46 [==============================] - 6s 127ms/step - loss: 0.0065\n",
      "Epoch 8/10\n",
      "46/46 [==============================] - 6s 131ms/step - loss: 0.0061\n",
      "Epoch 9/10\n",
      "46/46 [==============================] - 6s 126ms/step - loss: 0.0063\n",
      "Epoch 10/10\n",
      "46/46 [==============================] - 6s 124ms/step - loss: 0.0054\n"
     ]
    },
    {
     "data": {
      "text/plain": [
       "<keras.callbacks.History at 0x1f0df5b2250>"
      ]
     },
     "execution_count": 64,
     "metadata": {},
     "output_type": "execute_result"
    }
   ],
   "source": [
    "model0 = Sequential()\n",
    "model0.add(LSTM(units=100,return_sequences=True,input_shape=(WINDOW_SIZE, 1)))\n",
    "model0.add(LSTM(units=100,return_sequences=True))\n",
    "model0.add(Dropout(0.1))\n",
    "model0.add(LSTM(units=100,return_sequences=True))\n",
    "model0.add(Dropout(0.1))\n",
    "model0.add(LSTM(units=100))\n",
    "model0.add(Dropout(0.1))\n",
    "model0.add(Dense(units=1))\n",
    "\n",
    "model0.compile(loss=MeanSquaredError(), optimizer=Adam(learning_rate=0.001))\n",
    "model0.fit(X0_train,Y0_train, epochs=10) #batch size?"
   ]
  },
  {
   "cell_type": "code",
   "execution_count": 133,
   "id": "6d7f1302",
   "metadata": {},
   "outputs": [
    {
     "name": "stdout",
     "output_type": "stream",
     "text": [
      "12/12 [==============================] - 0s 21ms/step\n"
     ]
    },
    {
     "data": {
      "text/plain": [
       "([<matplotlib.axis.XTick at 0x1f0f43ae160>,\n",
       "  <matplotlib.axis.XTick at 0x1f0f43ae130>,\n",
       "  <matplotlib.axis.XTick at 0x1f0fbc4d4f0>,\n",
       "  <matplotlib.axis.XTick at 0x1f0d57a71c0>,\n",
       "  <matplotlib.axis.XTick at 0x1f0d57a7910>],\n",
       " [Text(0, 0, ''),\n",
       "  Text(0, 0, ''),\n",
       "  Text(0, 0, ''),\n",
       "  Text(0, 0, ''),\n",
       "  Text(0, 0, '')])"
      ]
     },
     "execution_count": 133,
     "metadata": {},
     "output_type": "execute_result"
    },
    {
     "data": {
      "image/png": "[encoded data removed]",
      "text/plain": [
       "<Figure size 432x288 with 1 Axes>"
      ]
     },
     "metadata": {
      "needs_background": "light"
     },
     "output_type": "display_data"
    }
   ],
   "source": [
    "test_predictions0 = model0.predict(X0_test)\n",
    "px_predict0 = scaler.inverse_transform(test_predictions0)\n",
    "results0 = pd.DataFrame(data={'Test Predictions':px_predict0.flatten(), \n",
    "                              'Actuals':df.iloc[split_index+window_size:]['Price USD']})\n",
    "\n",
    "import matplotlib.pyplot as plt\n",
    "plt.plot(df.iloc[:split_index+window_size]['Price USD'])\n",
    "plt.plot(results0[['Test Predictions', 'Actuals']])\n",
    "plt.legend(['Train', 'Predictions', 'Actuals'], loc='upper left')\n",
    "plt.xticks(np.arange(0, X0.shape[0], 400))"
   ]
  },
  {
   "cell_type": "code",
   "execution_count": null,
   "id": "5edbc896",
   "metadata": {},
   "outputs": [],
   "source": []
  },
  {
   "cell_type": "code",
   "execution_count": 22,
   "id": "f173cd19",
   "metadata": {},
   "outputs": [],
   "source": [
    "from sklearn.metrics import mean_squared_error as mse\n",
    "from sklearn.metrics import mean_absolute_error as mae\n",
    "from sklearn.metrics import mean_absolute_percentage_error as mape\n",
    "\n",
    "\n",
    "def performance_measure(model, X, y, method = 'Standard LSTM'):\n",
    "    predictions = model.predict(X).flatten()\n",
    "    return pd.DataFrame({'MSE': mse(y, predictions), \n",
    "                         'MAE': mae(y, predictions), \n",
    "                         'MAPE': mape(y, predictions), \n",
    "                         'Accuracy': 1-mape(y, predictions)}, index = [method])"
   ]
  },
  {
   "cell_type": "code",
   "execution_count": 23,
   "id": "819cc5df",
   "metadata": {},
   "outputs": [
    {
     "name": "stdout",
     "output_type": "stream",
     "text": [
      "12/12 [==============================] - 0s 11ms/step\n"
     ]
    },
    {
     "data": {
      "text/html": [
       "<div>\n",
       "<style scoped>\n",
       "    .dataframe tbody tr th:only-of-type {\n",
       "        vertical-align: middle;\n",
       "    }\n",
       "\n",
       "    .dataframe tbody tr th {\n",
       "        vertical-align: top;\n",
       "    }\n",
       "\n",
       "    .dataframe thead th {\n",
       "        text-align: right;\n",
       "    }\n",
       "</style>\n",
       "<table border=\"1\" class=\"dataframe\">\n",
       "  <thead>\n",
       "    <tr style=\"text-align: right;\">\n",
       "      <th></th>\n",
       "      <th>MSE</th>\n",
       "      <th>MAE</th>\n",
       "      <th>MAPE</th>\n",
       "      <th>Accuracy</th>\n",
       "    </tr>\n",
       "  </thead>\n",
       "  <tbody>\n",
       "    <tr>\n",
       "      <th>Standard LSTM</th>\n",
       "      <td>0.004804</td>\n",
       "      <td>0.054774</td>\n",
       "      <td>0.120238</td>\n",
       "      <td>0.879762</td>\n",
       "    </tr>\n",
       "  </tbody>\n",
       "</table>\n",
       "</div>"
      ],
      "text/plain": [
       "                    MSE       MAE      MAPE  Accuracy\n",
       "Standard LSTM  0.004804  0.054774  0.120238  0.879762"
      ]
     },
     "execution_count": 23,
     "metadata": {},
     "output_type": "execute_result"
    }
   ],
   "source": [
    "res0 = performance_measure(model0, X0_test, Y0_test.flatten())\n",
    "res0"
   ]
  },
  {
   "cell_type": "markdown",
   "id": "74c5418e",
   "metadata": {},
   "source": [
    "#### 2.2 LSTM with historical data and sentiment score pair\n",
    "<br>\n",
    "Intuitively it makes sense that **sentiment score** affect the stock price, and various research discusses the importance of incorporating sentiment in stock market predictions [3][4].\n",
    "<br>\n",
    "I will first explore the method used in \"Stock price prediction using news sentiment analysis\" by S. Mohan et al. [5] where the historical price and sentiment score are paired to for price prediction by LSTM. The pairs are \n",
    "$(Price_{t-1}, Sentiment Score_{t}),...,(Price_{t-m}, Sentiment Score_{t-m-1})$"
   ]
  },
  {
   "cell_type": "code",
   "execution_count": 24,
   "id": "ea998159",
   "metadata": {},
   "outputs": [],
   "source": [
    "sent_norm =  scaler.fit_transform(df['Sentiment'].values.reshape(-1,1)) # we also normalize the sentiment scores"
   ]
  },
  {
   "cell_type": "code",
   "execution_count": 25,
   "id": "9ff5ad2c",
   "metadata": {},
   "outputs": [
    {
     "data": {
      "text/plain": [
       "(1825, 2)"
      ]
     },
     "execution_count": 25,
     "metadata": {},
     "output_type": "execute_result"
    }
   ],
   "source": [
    "df_norm = np.hstack((px_norm[1:], sent_norm[:-1])) # because we are pairing price with sentiment score with 1 step offset\n",
    "df_norm.shape"
   ]
  },
  {
   "cell_type": "code",
   "execution_count": 26,
   "id": "909399d6",
   "metadata": {},
   "outputs": [
    {
     "data": {
      "text/plain": [
       "((1452, 10, 2), (1452,), (363, 10, 2), (363,))"
      ]
     },
     "execution_count": 26,
     "metadata": {},
     "output_type": "execute_result"
    }
   ],
   "source": [
    "#WINDOW_SIZE = 5\n",
    "X1, Y1 = df_to_XY(df_norm, WINDOW_SIZE)\n",
    "X_train1, Y_train1, X_test1, Y_test1 = split_data(X1, Y1)\n",
    "X_train1.shape, Y_train1.shape, X_test1.shape, Y_test1.shape"
   ]
  },
  {
   "cell_type": "code",
   "execution_count": 28,
   "id": "6c7c8a94",
   "metadata": {},
   "outputs": [
    {
     "name": "stdout",
     "output_type": "stream",
     "text": [
      "Epoch 1/10\n",
      "46/46 [==============================] - 7s 37ms/step - loss: 0.0357\n",
      "Epoch 2/10\n",
      "46/46 [==============================] - 2s 36ms/step - loss: 0.0068\n",
      "Epoch 3/10\n",
      "46/46 [==============================] - 2s 38ms/step - loss: 0.0069\n",
      "Epoch 4/10\n",
      "46/46 [==============================] - 2s 35ms/step - loss: 0.0064\n",
      "Epoch 5/10\n",
      "46/46 [==============================] - 2s 37ms/step - loss: 0.0064\n",
      "Epoch 6/10\n",
      "46/46 [==============================] - 2s 35ms/step - loss: 0.0061\n",
      "Epoch 7/10\n",
      "46/46 [==============================] - 2s 35ms/step - loss: 0.0063\n",
      "Epoch 8/10\n",
      "46/46 [==============================] - 2s 35ms/step - loss: 0.0056\n",
      "Epoch 9/10\n",
      "46/46 [==============================] - 2s 35ms/step - loss: 0.0053\n",
      "Epoch 10/10\n",
      "46/46 [==============================] - 2s 35ms/step - loss: 0.0056\n"
     ]
    },
    {
     "data": {
      "text/plain": [
       "<keras.callbacks.History at 0x1f0c0774c10>"
      ]
     },
     "execution_count": 28,
     "metadata": {},
     "output_type": "execute_result"
    }
   ],
   "source": [
    "model1 = Sequential()\n",
    "model1.add(LSTM(units=100,return_sequences=True,input_shape=(WINDOW_SIZE, 2))) # we use the same model except input shape is nx2 \n",
    "model1.add(LSTM(units=100,return_sequences=True))\n",
    "model1.add(Dropout(0.1))\n",
    "model1.add(LSTM(units=100,return_sequences=True))\n",
    "model1.add(Dropout(0.1))\n",
    "model1.add(LSTM(units=100))\n",
    "model1.add(Dropout(0.1))\n",
    "model1.add(Dense(units=1))\n",
    "\n",
    "\n",
    "model1.compile(loss=MeanSquaredError(), optimizer=Adam(learning_rate=0.001))\n",
    "model1.fit(X_train1,Y_train1, epochs=10)"
   ]
  },
  {
   "cell_type": "code",
   "execution_count": 32,
   "id": "1e8008dc",
   "metadata": {},
   "outputs": [
    {
     "name": "stdout",
     "output_type": "stream",
     "text": [
      "12/12 [==============================] - 0s 13ms/step\n"
     ]
    },
    {
     "data": {
      "text/html": [
       "<div>\n",
       "<style scoped>\n",
       "    .dataframe tbody tr th:only-of-type {\n",
       "        vertical-align: middle;\n",
       "    }\n",
       "\n",
       "    .dataframe tbody tr th {\n",
       "        vertical-align: top;\n",
       "    }\n",
       "\n",
       "    .dataframe thead th {\n",
       "        text-align: right;\n",
       "    }\n",
       "</style>\n",
       "<table border=\"1\" class=\"dataframe\">\n",
       "  <thead>\n",
       "    <tr style=\"text-align: right;\">\n",
       "      <th></th>\n",
       "      <th>MSE</th>\n",
       "      <th>MAE</th>\n",
       "      <th>MAPE</th>\n",
       "      <th>Accuracy</th>\n",
       "    </tr>\n",
       "  </thead>\n",
       "  <tbody>\n",
       "    <tr>\n",
       "      <th>Pair LSTM</th>\n",
       "      <td>0.004875</td>\n",
       "      <td>0.058049</td>\n",
       "      <td>0.113555</td>\n",
       "      <td>0.886445</td>\n",
       "    </tr>\n",
       "  </tbody>\n",
       "</table>\n",
       "</div>"
      ],
      "text/plain": [
       "                MSE       MAE      MAPE  Accuracy\n",
       "Pair LSTM  0.004875  0.058049  0.113555  0.886445"
      ]
     },
     "execution_count": 32,
     "metadata": {},
     "output_type": "execute_result"
    }
   ],
   "source": [
    "res1 = performance_measure(model1, X_test1, Y_test1.flatten(), 'Pair LSTM')\n",
    "res1"
   ]
  },
  {
   "cell_type": "code",
   "execution_count": null,
   "id": "e5a03297",
   "metadata": {},
   "outputs": [],
   "source": []
  },
  {
   "cell_type": "markdown",
   "id": "61d0bfc8",
   "metadata": {},
   "source": [
    "#### 2.3 LSTM with historical data and sentiment score as additional row\n",
    "<br>\n",
    "Another way to incorporate sentiment score into the LSTM model mentioned in \"FinBERT-LSTM: Deep Learning based stock price prediction using News Sentiment Analysis\" by S. Halder [4] is to combine the closing stock price of 10 days and news sentiment on that day, resulting in the input layer shape to be 11 x 1.\n",
    "<br>\n",
    "I replicate the method below with rolling window size default to be 5."
   ]
  },
  {
   "cell_type": "code",
   "execution_count": 33,
   "id": "c421a70e",
   "metadata": {},
   "outputs": [],
   "source": [
    "def df_to_XY_add_sent(px_norm, sent_norm, window_size=5):#test 5, 10, 15, 20, 30\n",
    "    X = []\n",
    "    Y = []\n",
    "    for i in range(len(px_norm)-window_size):\n",
    "        X.append(np.concatenate((px_norm[i:i+window_size], sent_norm[i+window_size-1:i+window_size]), axis = 0))\n",
    "        Y.append(px_norm[i+window_size, 0])\n",
    "    return np.array(X), np.array(Y)"
   ]
  },
  {
   "cell_type": "code",
   "execution_count": 34,
   "id": "765ee7a9",
   "metadata": {},
   "outputs": [
    {
     "data": {
      "text/plain": [
       "((1816, 11, 1), (1816,))"
      ]
     },
     "execution_count": 34,
     "metadata": {},
     "output_type": "execute_result"
    }
   ],
   "source": [
    "#WINDOW_SIZE = 5\n",
    "X2, Y2 = df_to_XY_add_sent(px_norm, sent_norm, WINDOW_SIZE)\n",
    "X2.shape, Y2.shape"
   ]
  },
  {
   "cell_type": "code",
   "execution_count": 35,
   "id": "35291a57",
   "metadata": {},
   "outputs": [
    {
     "data": {
      "text/plain": [
       "((1452, 11, 1), (1452,), (364, 11, 1), (364,))"
      ]
     },
     "execution_count": 35,
     "metadata": {},
     "output_type": "execute_result"
    }
   ],
   "source": [
    "X_train2, Y_train2, X_test2, Y_test2 = split_data(X2, Y2)\n",
    "X_train2.shape, Y_train2.shape, X_test2.shape, Y_test2.shape"
   ]
  },
  {
   "cell_type": "code",
   "execution_count": 36,
   "id": "cd7b9229",
   "metadata": {},
   "outputs": [
    {
     "name": "stdout",
     "output_type": "stream",
     "text": [
      "Epoch 1/10\n",
      "46/46 [==============================] - 8s 37ms/step - loss: 0.0341\n",
      "Epoch 2/10\n",
      "46/46 [==============================] - 2s 37ms/step - loss: 0.0062\n",
      "Epoch 3/10\n",
      "46/46 [==============================] - 2s 39ms/step - loss: 0.0059\n",
      "Epoch 4/10\n",
      "46/46 [==============================] - 2s 40ms/step - loss: 0.0058\n",
      "Epoch 5/10\n",
      "46/46 [==============================] - 2s 43ms/step - loss: 0.0059\n",
      "Epoch 6/10\n",
      "46/46 [==============================] - 2s 42ms/step - loss: 0.0056\n",
      "Epoch 7/10\n",
      "46/46 [==============================] - 2s 43ms/step - loss: 0.0051\n",
      "Epoch 8/10\n",
      "46/46 [==============================] - 2s 39ms/step - loss: 0.0052\n",
      "Epoch 9/10\n",
      "46/46 [==============================] - 2s 39ms/step - loss: 0.0050\n",
      "Epoch 10/10\n",
      "46/46 [==============================] - 2s 45ms/step - loss: 0.0049\n"
     ]
    },
    {
     "data": {
      "text/plain": [
       "<keras.callbacks.History at 0x1f0d42b3eb0>"
      ]
     },
     "execution_count": 36,
     "metadata": {},
     "output_type": "execute_result"
    }
   ],
   "source": [
    "model2 = Sequential()\n",
    "model2.add(LSTM(units=100,return_sequences=True,input_shape=(WINDOW_SIZE+1, 1))) # we use the same model except input shape is (n+1)x1\n",
    "model2.add(LSTM(units=100,return_sequences=True))\n",
    "model2.add(Dropout(0.1))\n",
    "model2.add(LSTM(units=100,return_sequences=True))\n",
    "model2.add(Dropout(0.1))\n",
    "model2.add(LSTM(units=100))\n",
    "model2.add(Dropout(0.1))\n",
    "model2.add(Dense(units=1))\n",
    "\n",
    "\n",
    "model2.compile(loss=MeanSquaredError(), optimizer=Adam(learning_rate=0.001))\n",
    "model2.fit(X_train2,Y_train2, epochs=10)"
   ]
  },
  {
   "cell_type": "code",
   "execution_count": 115,
   "id": "e20dfda4",
   "metadata": {},
   "outputs": [
    {
     "name": "stdout",
     "output_type": "stream",
     "text": [
      "12/12 [==============================] - 0s 24ms/step\n"
     ]
    },
    {
     "data": {
      "text/html": [
       "<div>\n",
       "<style scoped>\n",
       "    .dataframe tbody tr th:only-of-type {\n",
       "        vertical-align: middle;\n",
       "    }\n",
       "\n",
       "    .dataframe tbody tr th {\n",
       "        vertical-align: top;\n",
       "    }\n",
       "\n",
       "    .dataframe thead th {\n",
       "        text-align: right;\n",
       "    }\n",
       "</style>\n",
       "<table border=\"1\" class=\"dataframe\">\n",
       "  <thead>\n",
       "    <tr style=\"text-align: right;\">\n",
       "      <th></th>\n",
       "      <th>MSE</th>\n",
       "      <th>MAE</th>\n",
       "      <th>MAPE</th>\n",
       "      <th>Accuracy</th>\n",
       "    </tr>\n",
       "  </thead>\n",
       "  <tbody>\n",
       "    <tr>\n",
       "      <th>Pair LSTM</th>\n",
       "      <td>0.002835</td>\n",
       "      <td>0.042233</td>\n",
       "      <td>0.090603</td>\n",
       "      <td>0.909397</td>\n",
       "    </tr>\n",
       "  </tbody>\n",
       "</table>\n",
       "</div>"
      ],
      "text/plain": [
       "                MSE       MAE      MAPE  Accuracy\n",
       "Pair LSTM  0.002835  0.042233  0.090603  0.909397"
      ]
     },
     "execution_count": 115,
     "metadata": {},
     "output_type": "execute_result"
    }
   ],
   "source": [
    "res2 = performance_measure(model2, X_test2, Y_test2.flatten(), 'Pair LSTM')\n",
    "res2"
   ]
  },
  {
   "cell_type": "markdown",
   "id": "8213af3f",
   "metadata": {},
   "source": [
    "I combine the 3 performance measure tables. <br>\n",
    "I can see that the Additional feature LSTM way of incorporating sentiment score performed better for this specific stock. "
   ]
  },
  {
   "cell_type": "code",
   "execution_count": 116,
   "id": "f813f6c9",
   "metadata": {},
   "outputs": [
    {
     "data": {
      "text/html": [
       "<div>\n",
       "<style scoped>\n",
       "    .dataframe tbody tr th:only-of-type {\n",
       "        vertical-align: middle;\n",
       "    }\n",
       "\n",
       "    .dataframe tbody tr th {\n",
       "        vertical-align: top;\n",
       "    }\n",
       "\n",
       "    .dataframe thead th {\n",
       "        text-align: right;\n",
       "    }\n",
       "</style>\n",
       "<table border=\"1\" class=\"dataframe\">\n",
       "  <thead>\n",
       "    <tr style=\"text-align: right;\">\n",
       "      <th></th>\n",
       "      <th>MSE</th>\n",
       "      <th>MAE</th>\n",
       "      <th>MAPE</th>\n",
       "      <th>Accuracy</th>\n",
       "    </tr>\n",
       "  </thead>\n",
       "  <tbody>\n",
       "    <tr>\n",
       "      <th>Standard LSTM</th>\n",
       "      <td>0.004804</td>\n",
       "      <td>0.054774</td>\n",
       "      <td>0.120238</td>\n",
       "      <td>0.879762</td>\n",
       "    </tr>\n",
       "    <tr>\n",
       "      <th>Pair LSTM</th>\n",
       "      <td>0.004875</td>\n",
       "      <td>0.058049</td>\n",
       "      <td>0.113555</td>\n",
       "      <td>0.886445</td>\n",
       "    </tr>\n",
       "    <tr>\n",
       "      <th>Pair LSTM</th>\n",
       "      <td>0.002835</td>\n",
       "      <td>0.042233</td>\n",
       "      <td>0.090603</td>\n",
       "      <td>0.909397</td>\n",
       "    </tr>\n",
       "  </tbody>\n",
       "</table>\n",
       "</div>"
      ],
      "text/plain": [
       "                    MSE       MAE      MAPE  Accuracy\n",
       "Standard LSTM  0.004804  0.054774  0.120238  0.879762\n",
       "Pair LSTM      0.004875  0.058049  0.113555  0.886445\n",
       "Pair LSTM      0.002835  0.042233  0.090603  0.909397"
      ]
     },
     "execution_count": 116,
     "metadata": {},
     "output_type": "execute_result"
    }
   ],
   "source": [
    "summary = pd.concat([res0, res1, res2], axis = 0)\n",
    "summary"
   ]
  },
  {
   "cell_type": "markdown",
   "id": "f1133c88",
   "metadata": {},
   "source": [
    "###  3. Performance\n",
    "I now put these code into functions and test on a few more stocks."
   ]
  },
  {
   "cell_type": "code",
   "execution_count": 209,
   "id": "d6690a97",
   "metadata": {},
   "outputs": [
    {
     "name": "stdout",
     "output_type": "stream",
     "text": [
      "The autoreload extension is already loaded. To reload it, use:\n",
      "  %reload_ext autoreload\n"
     ]
    }
   ],
   "source": [
    "import toolkit as tk\n",
    "\n",
    "%load_ext autoreload\n",
    "%autoreload 2"
   ]
  },
  {
   "cell_type": "code",
   "execution_count": 43,
   "id": "def77ca1",
   "metadata": {},
   "outputs": [],
   "source": [
    "# ticker = 'LBQCYGN' #US stock\n",
    "# df = tk.load_data(ticker)\n",
    "# summary = tk.compare(tk.standard_LSTM(df), \n",
    "#                      tk.LSTM_pair(df, method = 'LSTM Pair'),\n",
    "#                      tk.LSTM_addl_feature(df, method = 'LSTM Addl feature'))\n",
    "# summary"
   ]
  },
  {
   "cell_type": "code",
   "execution_count": 44,
   "id": "3f30d761",
   "metadata": {},
   "outputs": [
    {
     "name": "stdout",
     "output_type": "stream",
     "text": [
      "12/12 [==============================] - 1s 9ms/step\n",
      "12/12 [==============================] - 1s 9ms/step\n",
      "12/12 [==============================] - 1s 10ms/step\n"
     ]
    },
    {
     "data": {
      "text/html": [
       "<div>\n",
       "<style scoped>\n",
       "    .dataframe tbody tr th:only-of-type {\n",
       "        vertical-align: middle;\n",
       "    }\n",
       "\n",
       "    .dataframe tbody tr th {\n",
       "        vertical-align: top;\n",
       "    }\n",
       "\n",
       "    .dataframe thead th {\n",
       "        text-align: right;\n",
       "    }\n",
       "</style>\n",
       "<table border=\"1\" class=\"dataframe\">\n",
       "  <thead>\n",
       "    <tr style=\"text-align: right;\">\n",
       "      <th></th>\n",
       "      <th>MSE</th>\n",
       "      <th>MAE</th>\n",
       "      <th>MAPE</th>\n",
       "      <th>Accuracy</th>\n",
       "    </tr>\n",
       "  </thead>\n",
       "  <tbody>\n",
       "    <tr>\n",
       "      <th>Standard LSTM</th>\n",
       "      <td>0.004624</td>\n",
       "      <td>0.052130</td>\n",
       "      <td>0.238219</td>\n",
       "      <td>0.761781</td>\n",
       "    </tr>\n",
       "    <tr>\n",
       "      <th>LSTM Pair</th>\n",
       "      <td>0.011367</td>\n",
       "      <td>0.089350</td>\n",
       "      <td>0.313555</td>\n",
       "      <td>0.686445</td>\n",
       "    </tr>\n",
       "    <tr>\n",
       "      <th>LSTM Addl feature</th>\n",
       "      <td>0.006711</td>\n",
       "      <td>0.066567</td>\n",
       "      <td>0.201296</td>\n",
       "      <td>0.798704</td>\n",
       "    </tr>\n",
       "  </tbody>\n",
       "</table>\n",
       "</div>"
      ],
      "text/plain": [
       "                        MSE       MAE      MAPE  Accuracy\n",
       "Standard LSTM      0.004624  0.052130  0.238219  0.761781\n",
       "LSTM Pair          0.011367  0.089350  0.313555  0.686445\n",
       "LSTM Addl feature  0.006711  0.066567  0.201296  0.798704"
      ]
     },
     "execution_count": 44,
     "metadata": {},
     "output_type": "execute_result"
    }
   ],
   "source": [
    "ticker = 'IROSROA' #JP sotck\n",
    "df = tk.load_data(ticker)\n",
    "summary = tk.compare(tk.standard_LSTM(df), \n",
    "                     tk.LSTM_pair(df, method = 'LSTM Pair'),\n",
    "                     tk.LSTM_addl_feature(df, method = 'LSTM Addl feature'))\n",
    "summary"
   ]
  },
  {
   "cell_type": "code",
   "execution_count": 45,
   "id": "17703600",
   "metadata": {},
   "outputs": [
    {
     "name": "stdout",
     "output_type": "stream",
     "text": [
      "12/12 [==============================] - 1s 13ms/step\n",
      "12/12 [==============================] - 1s 12ms/step\n",
      "12/12 [==============================] - 1s 14ms/step\n"
     ]
    },
    {
     "data": {
      "text/html": [
       "<div>\n",
       "<style scoped>\n",
       "    .dataframe tbody tr th:only-of-type {\n",
       "        vertical-align: middle;\n",
       "    }\n",
       "\n",
       "    .dataframe tbody tr th {\n",
       "        vertical-align: top;\n",
       "    }\n",
       "\n",
       "    .dataframe thead th {\n",
       "        text-align: right;\n",
       "    }\n",
       "</style>\n",
       "<table border=\"1\" class=\"dataframe\">\n",
       "  <thead>\n",
       "    <tr style=\"text-align: right;\">\n",
       "      <th></th>\n",
       "      <th>MSE</th>\n",
       "      <th>MAE</th>\n",
       "      <th>MAPE</th>\n",
       "      <th>Accuracy</th>\n",
       "    </tr>\n",
       "  </thead>\n",
       "  <tbody>\n",
       "    <tr>\n",
       "      <th>Standard LSTM</th>\n",
       "      <td>0.010806</td>\n",
       "      <td>0.087206</td>\n",
       "      <td>0.176049</td>\n",
       "      <td>0.823951</td>\n",
       "    </tr>\n",
       "    <tr>\n",
       "      <th>LSTM Pair</th>\n",
       "      <td>0.008811</td>\n",
       "      <td>0.076546</td>\n",
       "      <td>0.179311</td>\n",
       "      <td>0.820689</td>\n",
       "    </tr>\n",
       "    <tr>\n",
       "      <th>LSTM Addl feature</th>\n",
       "      <td>0.007389</td>\n",
       "      <td>0.069147</td>\n",
       "      <td>0.160596</td>\n",
       "      <td>0.839404</td>\n",
       "    </tr>\n",
       "  </tbody>\n",
       "</table>\n",
       "</div>"
      ],
      "text/plain": [
       "                        MSE       MAE      MAPE  Accuracy\n",
       "Standard LSTM      0.010806  0.087206  0.176049  0.823951\n",
       "LSTM Pair          0.008811  0.076546  0.179311  0.820689\n",
       "LSTM Addl feature  0.007389  0.069147  0.160596  0.839404"
      ]
     },
     "execution_count": 45,
     "metadata": {},
     "output_type": "execute_result"
    }
   ],
   "source": [
    "ticker = 'TJXKVVW' #UK Stock\n",
    "\n",
    "df = tk.load_data(ticker)\n",
    "summary = tk.compare(tk.standard_LSTM(df), \n",
    "                     tk.LSTM_pair(df, method = 'LSTM Pair'),\n",
    "                     tk.LSTM_addl_feature(df, method = 'LSTM Addl feature'))\n",
    "summary"
   ]
  },
  {
   "cell_type": "code",
   "execution_count": 46,
   "id": "11956120",
   "metadata": {},
   "outputs": [
    {
     "name": "stdout",
     "output_type": "stream",
     "text": [
      "12/12 [==============================] - 1s 14ms/step\n",
      "12/12 [==============================] - 1s 12ms/step\n",
      "12/12 [==============================] - 1s 17ms/step\n"
     ]
    },
    {
     "data": {
      "text/html": [
       "<div>\n",
       "<style scoped>\n",
       "    .dataframe tbody tr th:only-of-type {\n",
       "        vertical-align: middle;\n",
       "    }\n",
       "\n",
       "    .dataframe tbody tr th {\n",
       "        vertical-align: top;\n",
       "    }\n",
       "\n",
       "    .dataframe thead th {\n",
       "        text-align: right;\n",
       "    }\n",
       "</style>\n",
       "<table border=\"1\" class=\"dataframe\">\n",
       "  <thead>\n",
       "    <tr style=\"text-align: right;\">\n",
       "      <th></th>\n",
       "      <th>MSE</th>\n",
       "      <th>MAE</th>\n",
       "      <th>MAPE</th>\n",
       "      <th>Accuracy</th>\n",
       "    </tr>\n",
       "  </thead>\n",
       "  <tbody>\n",
       "    <tr>\n",
       "      <th>Standard LSTM</th>\n",
       "      <td>0.002418</td>\n",
       "      <td>0.036514</td>\n",
       "      <td>0.085478</td>\n",
       "      <td>0.914522</td>\n",
       "    </tr>\n",
       "    <tr>\n",
       "      <th>LSTM Pair</th>\n",
       "      <td>0.001790</td>\n",
       "      <td>0.033847</td>\n",
       "      <td>0.073085</td>\n",
       "      <td>0.926915</td>\n",
       "    </tr>\n",
       "    <tr>\n",
       "      <th>LSTM Addl feature</th>\n",
       "      <td>0.001537</td>\n",
       "      <td>0.029513</td>\n",
       "      <td>0.066532</td>\n",
       "      <td>0.933468</td>\n",
       "    </tr>\n",
       "  </tbody>\n",
       "</table>\n",
       "</div>"
      ],
      "text/plain": [
       "                        MSE       MAE      MAPE  Accuracy\n",
       "Standard LSTM      0.002418  0.036514  0.085478  0.914522\n",
       "LSTM Pair          0.001790  0.033847  0.073085  0.926915\n",
       "LSTM Addl feature  0.001537  0.029513  0.066532  0.933468"
      ]
     },
     "execution_count": 46,
     "metadata": {},
     "output_type": "execute_result"
    }
   ],
   "source": [
    "ticker = 'GZMNIJI' #US stock \n",
    "\n",
    "df = tk.load_data(ticker)\n",
    "summary = tk.compare(tk.standard_LSTM(df), \n",
    "                     tk.LSTM_pair(df, method = 'LSTM Pair'),\n",
    "                     tk.LSTM_addl_feature(df, method = 'LSTM Addl feature'))\n",
    "summary"
   ]
  },
  {
   "cell_type": "code",
   "execution_count": 47,
   "id": "ad410fa7",
   "metadata": {},
   "outputs": [
    {
     "name": "stdout",
     "output_type": "stream",
     "text": [
      "12/12 [==============================] - 1s 23ms/step\n",
      "12/12 [==============================] - 1s 17ms/step\n",
      "12/12 [==============================] - 1s 17ms/step\n"
     ]
    },
    {
     "data": {
      "text/html": [
       "<div>\n",
       "<style scoped>\n",
       "    .dataframe tbody tr th:only-of-type {\n",
       "        vertical-align: middle;\n",
       "    }\n",
       "\n",
       "    .dataframe tbody tr th {\n",
       "        vertical-align: top;\n",
       "    }\n",
       "\n",
       "    .dataframe thead th {\n",
       "        text-align: right;\n",
       "    }\n",
       "</style>\n",
       "<table border=\"1\" class=\"dataframe\">\n",
       "  <thead>\n",
       "    <tr style=\"text-align: right;\">\n",
       "      <th></th>\n",
       "      <th>MSE</th>\n",
       "      <th>MAE</th>\n",
       "      <th>MAPE</th>\n",
       "      <th>Accuracy</th>\n",
       "    </tr>\n",
       "  </thead>\n",
       "  <tbody>\n",
       "    <tr>\n",
       "      <th>Standard LSTM</th>\n",
       "      <td>0.004440</td>\n",
       "      <td>0.050003</td>\n",
       "      <td>0.099776</td>\n",
       "      <td>0.900224</td>\n",
       "    </tr>\n",
       "    <tr>\n",
       "      <th>LSTM Pair</th>\n",
       "      <td>0.007186</td>\n",
       "      <td>0.069739</td>\n",
       "      <td>0.126724</td>\n",
       "      <td>0.873276</td>\n",
       "    </tr>\n",
       "    <tr>\n",
       "      <th>LSTM Addl feature</th>\n",
       "      <td>0.003836</td>\n",
       "      <td>0.045507</td>\n",
       "      <td>0.093168</td>\n",
       "      <td>0.906832</td>\n",
       "    </tr>\n",
       "  </tbody>\n",
       "</table>\n",
       "</div>"
      ],
      "text/plain": [
       "                        MSE       MAE      MAPE  Accuracy\n",
       "Standard LSTM      0.004440  0.050003  0.099776  0.900224\n",
       "LSTM Pair          0.007186  0.069739  0.126724  0.873276\n",
       "LSTM Addl feature  0.003836  0.045507  0.093168  0.906832"
      ]
     },
     "execution_count": 47,
     "metadata": {},
     "output_type": "execute_result"
    }
   ],
   "source": [
    "ticker = 'PREGXXP' #JP stock\n",
    "\n",
    "df = tk.load_data(ticker)\n",
    "summary = tk.compare(tk.standard_LSTM(df), \n",
    "                     tk.LSTM_pair(df, method = 'LSTM Pair'),\n",
    "                     tk.LSTM_addl_feature(df, method = 'LSTM Addl feature'))\n",
    "summary"
   ]
  },
  {
   "cell_type": "code",
   "execution_count": 48,
   "id": "fc5dfb7d",
   "metadata": {},
   "outputs": [
    {
     "name": "stdout",
     "output_type": "stream",
     "text": [
      "12/12 [==============================] - 1s 16ms/step\n",
      "12/12 [==============================] - 1s 14ms/step\n",
      "12/12 [==============================] - 1s 14ms/step\n"
     ]
    },
    {
     "data": {
      "text/html": [
       "<div>\n",
       "<style scoped>\n",
       "    .dataframe tbody tr th:only-of-type {\n",
       "        vertical-align: middle;\n",
       "    }\n",
       "\n",
       "    .dataframe tbody tr th {\n",
       "        vertical-align: top;\n",
       "    }\n",
       "\n",
       "    .dataframe thead th {\n",
       "        text-align: right;\n",
       "    }\n",
       "</style>\n",
       "<table border=\"1\" class=\"dataframe\">\n",
       "  <thead>\n",
       "    <tr style=\"text-align: right;\">\n",
       "      <th></th>\n",
       "      <th>MSE</th>\n",
       "      <th>MAE</th>\n",
       "      <th>MAPE</th>\n",
       "      <th>Accuracy</th>\n",
       "    </tr>\n",
       "  </thead>\n",
       "  <tbody>\n",
       "    <tr>\n",
       "      <th>Standard LSTM</th>\n",
       "      <td>0.007984</td>\n",
       "      <td>0.073273</td>\n",
       "      <td>0.104526</td>\n",
       "      <td>0.895474</td>\n",
       "    </tr>\n",
       "    <tr>\n",
       "      <th>LSTM Pair</th>\n",
       "      <td>0.005544</td>\n",
       "      <td>0.057454</td>\n",
       "      <td>0.087639</td>\n",
       "      <td>0.912361</td>\n",
       "    </tr>\n",
       "    <tr>\n",
       "      <th>LSTM Addl feature</th>\n",
       "      <td>0.005100</td>\n",
       "      <td>0.054319</td>\n",
       "      <td>0.085520</td>\n",
       "      <td>0.914480</td>\n",
       "    </tr>\n",
       "  </tbody>\n",
       "</table>\n",
       "</div>"
      ],
      "text/plain": [
       "                        MSE       MAE      MAPE  Accuracy\n",
       "Standard LSTM      0.007984  0.073273  0.104526  0.895474\n",
       "LSTM Pair          0.005544  0.057454  0.087639  0.912361\n",
       "LSTM Addl feature  0.005100  0.054319  0.085520  0.914480"
      ]
     },
     "execution_count": 48,
     "metadata": {},
     "output_type": "execute_result"
    }
   ],
   "source": [
    "ticker = 'GNDARTH' #UK stock\n",
    "\n",
    "df = tk.load_data(ticker)\n",
    "summary = tk.compare(tk.standard_LSTM(df), \n",
    "                     tk.LSTM_pair(df, method = 'LSTM Pair'),\n",
    "                     tk.LSTM_addl_feature(df, method = 'LSTM Addl feature'))\n",
    "summary"
   ]
  },
  {
   "cell_type": "markdown",
   "id": "6f008e5a",
   "metadata": {},
   "source": [
    "From the above, we can see that for the two US stock examples, LSTM Additional Feature model has a 24.65% and 22.16% MAPE and 2.96% and 1.89% accuracy performance improvement over the standard LSTM model. The LSTM Pair model also provides performance improvements over the standard LSTM model.\n",
    "<br>\n",
    "While for the non-US stock examples, the LSTM Additional Feature model still provides the improved performance over the standard LSTM mode, this is not always the case for LSTM Pair model. \n",
    "<br>\n",
    "<br>\n",
    "###  4. Stock price predictions\n",
    "Given the above, I will use the **LSTM Additional Feature model** to predict the one-day-ahead stock price for the 100 stocks."
   ]
  },
  {
   "cell_type": "code",
   "execution_count": 172,
   "id": "2b00850b",
   "metadata": {},
   "outputs": [],
   "source": [
    "stock_list = list(stocks['ID'].unique())"
   ]
  },
  {
   "cell_type": "code",
   "execution_count": 217,
   "id": "00627c32",
   "metadata": {},
   "outputs": [],
   "source": [
    "# ticker = stock_list[10]\n",
    "ticker = 'HQFUPUK'\n",
    "df = tk.load_data(ticker)"
   ]
  },
  {
   "cell_type": "code",
   "execution_count": 218,
   "id": "47fbb750",
   "metadata": {},
   "outputs": [
    {
     "data": {
      "text/html": [
       "<div>\n",
       "<style scoped>\n",
       "    .dataframe tbody tr th:only-of-type {\n",
       "        vertical-align: middle;\n",
       "    }\n",
       "\n",
       "    .dataframe tbody tr th {\n",
       "        vertical-align: top;\n",
       "    }\n",
       "\n",
       "    .dataframe thead th {\n",
       "        text-align: right;\n",
       "    }\n",
       "</style>\n",
       "<table border=\"1\" class=\"dataframe\">\n",
       "  <thead>\n",
       "    <tr style=\"text-align: right;\">\n",
       "      <th></th>\n",
       "      <th>Date</th>\n",
       "      <th>Price USD</th>\n",
       "      <th>Sentiment</th>\n",
       "    </tr>\n",
       "  </thead>\n",
       "  <tbody>\n",
       "    <tr>\n",
       "      <th>6</th>\n",
       "      <td>2012-02-01</td>\n",
       "      <td>9.284709</td>\n",
       "      <td>0.089430</td>\n",
       "    </tr>\n",
       "    <tr>\n",
       "      <th>106</th>\n",
       "      <td>2012-03-01</td>\n",
       "      <td>9.595690</td>\n",
       "      <td>-0.011933</td>\n",
       "    </tr>\n",
       "    <tr>\n",
       "      <th>206</th>\n",
       "      <td>2012-04-01</td>\n",
       "      <td>9.538023</td>\n",
       "      <td>0.364095</td>\n",
       "    </tr>\n",
       "  </tbody>\n",
       "</table>\n",
       "</div>"
      ],
      "text/plain": [
       "           Date  Price USD  Sentiment\n",
       "6    2012-02-01   9.284709   0.089430\n",
       "106  2012-03-01   9.595690  -0.011933\n",
       "206  2012-04-01   9.538023   0.364095"
      ]
     },
     "execution_count": 218,
     "metadata": {},
     "output_type": "execute_result"
    }
   ],
   "source": [
    "df.head(3)"
   ]
  },
  {
   "cell_type": "code",
   "execution_count": 251,
   "id": "702cf74a",
   "metadata": {},
   "outputs": [
    {
     "name": "stdout",
     "output_type": "stream",
     "text": [
      "The autoreload extension is already loaded. To reload it, use:\n",
      "  %reload_ext autoreload\n",
      "1/1 [==============================] - 1s 1s/step\n",
      "12/12 [==============================] - 0s 12ms/step\n"
     ]
    }
   ],
   "source": [
    "%load_ext autoreload\n",
    "%autoreload 2\n",
    "res_list = tk.predict_LSTM_af(df, 10)"
   ]
  },
  {
   "cell_type": "code",
   "execution_count": 252,
   "id": "485e0d0a",
   "metadata": {},
   "outputs": [
    {
     "data": {
      "text/plain": [
       "[11.156252, 0.9589124546501068]"
      ]
     },
     "execution_count": 252,
     "metadata": {},
     "output_type": "execute_result"
    }
   ],
   "source": [
    "res_list"
   ]
  },
  {
   "cell_type": "code",
   "execution_count": 179,
   "id": "7a6092d5",
   "metadata": {},
   "outputs": [],
   "source": [
    "def normalize(data):\n",
    "    \"\"\"\n",
    "    Takes a Series and normalize it.\n",
    "    \"\"\"\n",
    "    scaler = MinMaxScaler(feature_range=(0,1)) \n",
    "    norm_series = scaler.fit_transform(data.values.reshape(-1,1))\n",
    "    return norm_series"
   ]
  },
  {
   "cell_type": "code",
   "execution_count": 182,
   "id": "92127deb",
   "metadata": {},
   "outputs": [],
   "source": [
    "def split_data(X, Y, train_split = 0.8): #default train/test split is 80/20\n",
    "\n",
    "    split_index = int(Y.shape[0] * train_split)\n",
    "    \n",
    "    X_train, Y_train = X[:split_index], Y[:split_index]\n",
    "    X_test, Y_test = X[split_index:], Y[split_index:]\n",
    "    \n",
    "    return X_train, Y_train, X_test, Y_test,"
   ]
  },
  {
   "cell_type": "code",
   "execution_count": 190,
   "id": "886e90a3",
   "metadata": {},
   "outputs": [],
   "source": [
    "def df_to_XY_add_sent(px_norm, sent_norm, window_size=5):\n",
    "    X = []\n",
    "    Y = []\n",
    "    for i in range(len(px_norm)-window_size):\n",
    "        X.append(np.concatenate((px_norm[i:i+window_size], sent_norm[i+window_size-1:i+window_size]), axis = 0))\n",
    "        Y.append(px_norm[i+window_size, 0])\n",
    "    return np.array(X), np.array(Y)"
   ]
  },
  {
   "cell_type": "code",
   "execution_count": 249,
   "id": "a3fa0dec",
   "metadata": {},
   "outputs": [
    {
     "data": {
      "text/plain": [
       "0.9578828332469338"
      ]
     },
     "execution_count": 249,
     "metadata": {},
     "output_type": "execute_result"
    }
   ],
   "source": [
    "accuracy[0]"
   ]
  },
  {
   "cell_type": "code",
   "execution_count": 243,
   "id": "242ee6c9",
   "metadata": {},
   "outputs": [
    {
     "name": "stdout",
     "output_type": "stream",
     "text": [
      "1/1 [==============================] - 1s 1s/step\n",
      "12/12 [==============================] - 0s 11ms/step\n"
     ]
    }
   ],
   "source": []
  },
  {
   "cell_type": "code",
   "execution_count": 244,
   "id": "281839f3",
   "metadata": {},
   "outputs": [
    {
     "data": {
      "text/plain": [
       "array([[11.198192]], dtype=float32)"
      ]
     },
     "execution_count": 244,
     "metadata": {},
     "output_type": "execute_result"
    }
   ],
   "source": [
    "oneday_predict_px"
   ]
  },
  {
   "cell_type": "markdown",
   "id": "d00b1aa3",
   "metadata": {},
   "source": [
    "## REFERENCES"
   ]
  },
  {
   "cell_type": "markdown",
   "id": "03ecc0a0",
   "metadata": {},
   "source": [
    "[1] Khalid Bin Saboor, Qurat Ul Ain Saboor, Liyan Han, Abdul Saboor Zahid. \"Predicting the Stock Market using Machine Learning: Long short-term Memory\". *Electronic Research Journal of Engineering, Computer and Applied Sciences* Volume 2 (2020). Available from: https://papers.ssrn.com/sol3/papers.cfm?abstract_id=3810128 <br>\n",
    "\n",
    "[2] Ruochen Xiao, Yingying Feng, Lei Yan, Yihan Ma. \"Predict Stock Prices with ARIMA and LSTM\". *arXiv*:2209.02407v1 [q-fin.ST] 31 Aug 2022. Available from: https://arxiv.org/pdf/2209.02407.pdf <br>\n",
    "\n",
    "[3] Shilpa Gite, Hrituja Khatavkar1, Ketan Kotecha, Shilpi Srivastava, Priyam Maheshwari Neerav Pandey. \"Explainable stock prices prediction from financial news articles using sentiment analysis\". *PeerJ Computer Science* Published 28 January 2021. Available from: https://www.semanticscholar.org/paper/Explainable-stock-prices-prediction-from-financial-Gite-Khatavkar/25a07bf9755fbfc73b11668517b8a6f54c362e4c <br>\n",
    "\n",
    "[4] Halder Shayan. \"FinBERT-LSTM: Deep Learning based on stock price prediction using News Sentiment Analysis\". *arXiv*:2211.07392v1 [q-fin.ST] 11 Nov 2022. Avaialble from: https://arxiv.org/pdf/2211.07392.pdf <br>\n",
    "\n",
    "[5] S. Mohan, S. Mullapudi, S. Sammeta, P. Vijayvergia and D.C. Anastasiu. \"Stock price prediction using news sentiment analysis\". *2019 IEEE Fifth International Conference on Big Data Computing Service and Applications*, IEEE, 2019, pp.205-208"
   ]
  },
  {
   "cell_type": "code",
   "execution_count": null,
   "id": "4395ca28",
   "metadata": {},
   "outputs": [],
   "source": []
  }
 ],
 "metadata": {
  "kernelspec": {
   "display_name": "Python 3 (ipykernel)",
   "language": "python",
   "name": "python3"
  },
  "language_info": {
   "codemirror_mode": {
    "name": "ipython",
    "version": 3
   },
   "file_extension": ".py",
   "mimetype": "text/x-python",
   "name": "python",
   "nbconvert_exporter": "python",
   "pygments_lexer": "ipython3",
   "version": "3.9.7"
  }
 },
 "nbformat": 4,
 "nbformat_minor": 5
}
